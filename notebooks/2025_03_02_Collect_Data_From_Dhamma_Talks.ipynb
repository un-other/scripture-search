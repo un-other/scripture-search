{
 "cells": [
  {
   "cell_type": "markdown",
   "id": "b9ae4037-917d-4003-a2b1-72aba3e2708e",
   "metadata": {},
   "source": [
    "# 2025-03-02 Collect Data from Dhamma Talks\n",
    "In this notebook, we will collect data from the Dhamma Talks website. "
   ]
  },
  {
   "cell_type": "code",
   "execution_count": 1,
   "id": "00f84305",
   "metadata": {},
   "outputs": [],
   "source": [
    "%load_ext autoreload\n",
    "%autoreload 2"
   ]
  },
  {
   "cell_type": "code",
   "execution_count": 2,
   "id": "0c35e870",
   "metadata": {},
   "outputs": [
    {
     "ename": "ModuleNotFoundError",
     "evalue": "No module named 'scripture_search'",
     "output_type": "error",
     "traceback": [
      "\u001b[31m---------------------------------------------------------------------------\u001b[39m",
      "\u001b[31mModuleNotFoundError\u001b[39m                       Traceback (most recent call last)",
      "\u001b[36mCell\u001b[39m\u001b[36m \u001b[39m\u001b[32mIn[2]\u001b[39m\u001b[32m, line 1\u001b[39m\n\u001b[32m----> \u001b[39m\u001b[32m1\u001b[39m \u001b[38;5;28;01mfrom\u001b[39;00m\u001b[38;5;250m \u001b[39m\u001b[34;01mscripture_search\u001b[39;00m\u001b[34;01m.\u001b[39;00m\u001b[34;01mconfig\u001b[39;00m\u001b[38;5;250m \u001b[39m\u001b[38;5;28;01mimport\u001b[39;00m Config\n\u001b[32m      2\u001b[39m \u001b[38;5;28;01mfrom\u001b[39;00m\u001b[38;5;250m \u001b[39m\u001b[34;01mscripture_search\u001b[39;00m\u001b[34;01m.\u001b[39;00m\u001b[34;01mdata_collection\u001b[39;00m\u001b[34;01m.\u001b[39;00m\u001b[34;01mdhamma_talks\u001b[39;00m\u001b[38;5;250m \u001b[39m\u001b[38;5;28;01mimport\u001b[39;00m DhammaTalksCollector\n\u001b[32m      4\u001b[39m config = Config()\n",
      "\u001b[31mModuleNotFoundError\u001b[39m: No module named 'scripture_search'"
     ]
    }
   ],
   "source": [
    "from scripture_search.config import Config\n",
    "from scripture_search.data_collection.dhamma_talks import DhammaTalksCollector\n",
    "\n",
    "config = Config()\n",
    "collector = DhammaTalksCollector()"
   ]
  },
  {
   "cell_type": "code",
   "execution_count": null,
   "id": "95e9d295",
   "metadata": {},
   "outputs": [
    {
     "name": "stderr",
     "output_type": "stream",
     "text": [
      "2025-03-02 15:19:30 - scripture_search.data_collection.data_collector - INFO - Data not found at C:\\Users\\Redux\\code\\scripture-search\\data\\dhamma_talks_suttas.csv or force_refresh is True, collecting data...\n",
      "  0%|          | 0/5 [00:00<?, ?it/s]2025-03-02 15:19:32 - scripture_search.data_collection.data_collector - INFO - Processing collection: AN\n",
      " 20%|██        | 1/5 [00:02<00:10,  2.65s/it]2025-03-02 15:19:34 - scripture_search.data_collection.data_collector - INFO - Processing collection: DN\n",
      " 40%|████      | 2/5 [00:08<00:14,  4.72s/it]2025-03-02 15:19:40 - scripture_search.data_collection.data_collector - INFO - Processing collection: KN\n",
      "2025-03-02 15:19:40 - scripture_search.data_collection.data_collector - INFO - Processing collection: MN\n",
      " 80%|████████  | 4/5 [00:49<00:14, 14.41s/it]2025-03-02 15:20:21 - scripture_search.data_collection.data_collector - INFO - Processing collection: SN\n",
      "100%|██████████| 5/5 [01:25<00:00, 17.05s/it]\n",
      "2025-03-02 15:20:57 - scripture_search.data_collection.data_collector - INFO - Collected 240 suttas\n",
      "2025-03-02 15:20:57 - scripture_search.data_collection.data_collector - INFO - Saving data to C:\\Users\\Redux\\code\\scripture-search\\data\\dhamma_talks_suttas.csv\n"
     ]
    },
    {
     "data": {
      "text/html": [
       "<div>\n",
       "<style scoped>\n",
       "    .dataframe tbody tr th:only-of-type {\n",
       "        vertical-align: middle;\n",
       "    }\n",
       "\n",
       "    .dataframe tbody tr th {\n",
       "        vertical-align: top;\n",
       "    }\n",
       "\n",
       "    .dataframe thead th {\n",
       "        text-align: right;\n",
       "    }\n",
       "</style>\n",
       "<table border=\"1\" class=\"dataframe\">\n",
       "  <thead>\n",
       "    <tr style=\"text-align: right;\">\n",
       "      <th></th>\n",
       "      <th>collection</th>\n",
       "      <th>title</th>\n",
       "      <th>paragraphs</th>\n",
       "      <th>url_source</th>\n",
       "      <th>religion</th>\n",
       "      <th>subgroup</th>\n",
       "      <th>source</th>\n",
       "      <th>translation_source</th>\n",
       "    </tr>\n",
       "  </thead>\n",
       "  <tbody>\n",
       "    <tr>\n",
       "      <th>0</th>\n",
       "      <td>AN</td>\n",
       "      <td>A Single Thing</td>\n",
       "      <td>[21. âI donât envision a single thing that...</td>\n",
       "      <td>https://www.dhammatalks.org/suttas/AN/AN1_21.html</td>\n",
       "      <td>Buddhism</td>\n",
       "      <td>Theravada</td>\n",
       "      <td>Dhamma Talks</td>\n",
       "      <td>Thanissaro Bhikkhu</td>\n",
       "    </tr>\n",
       "    <tr>\n",
       "      <th>1</th>\n",
       "      <td>AN</td>\n",
       "      <td>A Pool of Water</td>\n",
       "      <td>[45. âSuppose there were a pool of waterâs...</td>\n",
       "      <td>https://www.dhammatalks.org/suttas/AN/AN1_45.html</td>\n",
       "      <td>Buddhism</td>\n",
       "      <td>Theravada</td>\n",
       "      <td>Dhamma Talks</td>\n",
       "      <td>Thanissaro Bhikkhu</td>\n",
       "    </tr>\n",
       "    <tr>\n",
       "      <th>2</th>\n",
       "      <td>AN</td>\n",
       "      <td>Soft</td>\n",
       "      <td>[âJust as, of all trees, the balsam is forem...</td>\n",
       "      <td>https://www.dhammatalks.org/suttas/AN/AN1_48.html</td>\n",
       "      <td>Buddhism</td>\n",
       "      <td>Theravada</td>\n",
       "      <td>Dhamma Talks</td>\n",
       "      <td>Thanissaro Bhikkhu</td>\n",
       "    </tr>\n",
       "    <tr>\n",
       "      <th>3</th>\n",
       "      <td>AN</td>\n",
       "      <td>Quick to Reverse Itself</td>\n",
       "      <td>[âI donât envision a single thing that is ...</td>\n",
       "      <td>https://www.dhammatalks.org/suttas/AN/AN1_49.html</td>\n",
       "      <td>Buddhism</td>\n",
       "      <td>Theravada</td>\n",
       "      <td>Dhamma Talks</td>\n",
       "      <td>Thanissaro Bhikkhu</td>\n",
       "    </tr>\n",
       "    <tr>\n",
       "      <th>4</th>\n",
       "      <td>AN</td>\n",
       "      <td>Luminous</td>\n",
       "      <td>[âLuminous, monks, is the mind.1 And it is d...</td>\n",
       "      <td>https://www.dhammatalks.org/suttas/AN/AN1_50.html</td>\n",
       "      <td>Buddhism</td>\n",
       "      <td>Theravada</td>\n",
       "      <td>Dhamma Talks</td>\n",
       "      <td>Thanissaro Bhikkhu</td>\n",
       "    </tr>\n",
       "  </tbody>\n",
       "</table>\n",
       "</div>"
      ],
      "text/plain": [
       "  collection                    title  \\\n",
       "0         AN           A Single Thing   \n",
       "1         AN          A Pool of Water   \n",
       "2         AN                     Soft   \n",
       "3         AN  Quick to Reverse Itself   \n",
       "4         AN                 Luminous   \n",
       "\n",
       "                                          paragraphs  \\\n",
       "0  [21. âI donât envision a single thing that...   \n",
       "1  [45. âSuppose there were a pool of waterâs...   \n",
       "2  [âJust as, of all trees, the balsam is forem...   \n",
       "3  [âI donât envision a single thing that is ...   \n",
       "4  [âLuminous, monks, is the mind.1 And it is d...   \n",
       "\n",
       "                                          url_source  religion   subgroup  \\\n",
       "0  https://www.dhammatalks.org/suttas/AN/AN1_21.html  Buddhism  Theravada   \n",
       "1  https://www.dhammatalks.org/suttas/AN/AN1_45.html  Buddhism  Theravada   \n",
       "2  https://www.dhammatalks.org/suttas/AN/AN1_48.html  Buddhism  Theravada   \n",
       "3  https://www.dhammatalks.org/suttas/AN/AN1_49.html  Buddhism  Theravada   \n",
       "4  https://www.dhammatalks.org/suttas/AN/AN1_50.html  Buddhism  Theravada   \n",
       "\n",
       "         source  translation_source  \n",
       "0  Dhamma Talks  Thanissaro Bhikkhu  \n",
       "1  Dhamma Talks  Thanissaro Bhikkhu  \n",
       "2  Dhamma Talks  Thanissaro Bhikkhu  \n",
       "3  Dhamma Talks  Thanissaro Bhikkhu  \n",
       "4  Dhamma Talks  Thanissaro Bhikkhu  "
      ]
     },
     "execution_count": 18,
     "metadata": {},
     "output_type": "execute_result"
    }
   ],
   "source": [
    "data = collector.get_data()\n",
    "data.head()"
   ]
  },
  {
   "cell_type": "code",
   "execution_count": null,
   "id": "52e56a66",
   "metadata": {},
   "outputs": [],
   "source": []
  }
 ],
 "metadata": {
  "kernelspec": {
   "display_name": "Python 3 (ipykernel)",
   "language": "python",
   "name": "python3"
  },
  "language_info": {
   "codemirror_mode": {
    "name": "ipython",
    "version": 3
   },
   "file_extension": ".py",
   "mimetype": "text/x-python",
   "name": "python",
   "nbconvert_exporter": "python",
   "pygments_lexer": "ipython3",
   "version": "3.12.9"
  }
 },
 "nbformat": 4,
 "nbformat_minor": 5
}
