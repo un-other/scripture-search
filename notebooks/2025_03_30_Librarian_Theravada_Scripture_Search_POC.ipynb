{
 "cells": [
  {
   "cell_type": "markdown",
   "metadata": {},
   "source": [
    "# Theravada Scripture Search POC\n",
    "\n",
    "In this notebook, we'll create a proof-of-concept of search over the translated Theravadan texts from https://www.dhammatalks.org/suttas/."
   ]
  },
  {
   "cell_type": "markdown",
   "metadata": {},
   "source": [
    "## Setup"
   ]
  },
  {
   "cell_type": "code",
   "execution_count": 1,
   "metadata": {},
   "outputs": [],
   "source": [
    "\n",
    "# Run once.\n",
    "\n",
    "%load_ext autoreload\n",
    "%autoreload 2\n",
    "\n",
    "import os\n",
    "\n",
    "# Move execution back one directory.\n",
    "os.chdir('..')"
   ]
  },
  {
   "cell_type": "code",
   "execution_count": 2,
   "metadata": {},
   "outputs": [
    {
     "data": {
      "text/html": [
       "\n",
       "<style>\n",
       ".output_scroll {\n",
       "    max-height: 400px;\n",
       "    overflow-y: auto;\n",
       "}\n",
       "</style>\n"
      ],
      "text/plain": [
       "<IPython.core.display.HTML object>"
      ]
     },
     "execution_count": 2,
     "metadata": {},
     "output_type": "execute_result"
    }
   ],
   "source": [
    "from IPython.display import HTML\n",
    "\n",
    "HTML(\n",
    "    \"\"\"\n",
    "<style>\n",
    ".output_scroll {\n",
    "    max-height: 400px;\n",
    "    overflow-y: auto;\n",
    "}\n",
    "</style>\n",
    "\"\"\"\n",
    ")"
   ]
  },
  {
   "cell_type": "code",
   "execution_count": 3,
   "metadata": {},
   "outputs": [
    {
     "data": {
      "text/plain": [
       "True"
      ]
     },
     "execution_count": 3,
     "metadata": {},
     "output_type": "execute_result"
    }
   ],
   "source": [
    "import pandas as pd\n",
    "from dotenv import load_dotenv\n",
    "\n",
    "load_dotenv()\n"
   ]
  },
  {
   "cell_type": "markdown",
   "metadata": {},
   "source": [
    "## Load data"
   ]
  },
  {
   "cell_type": "code",
   "execution_count": 4,
   "metadata": {},
   "outputs": [
    {
     "name": "stdout",
     "output_type": "stream",
     "text": [
      "(240, 8)\n"
     ]
    },
    {
     "data": {
      "text/html": [
       "<div>\n",
       "<style scoped>\n",
       "    .dataframe tbody tr th:only-of-type {\n",
       "        vertical-align: middle;\n",
       "    }\n",
       "\n",
       "    .dataframe tbody tr th {\n",
       "        vertical-align: top;\n",
       "    }\n",
       "\n",
       "    .dataframe thead th {\n",
       "        text-align: right;\n",
       "    }\n",
       "</style>\n",
       "<table border=\"1\" class=\"dataframe\">\n",
       "  <thead>\n",
       "    <tr style=\"text-align: right;\">\n",
       "      <th></th>\n",
       "      <th>collection</th>\n",
       "      <th>title</th>\n",
       "      <th>url_source</th>\n",
       "      <th>religion</th>\n",
       "      <th>subgroup</th>\n",
       "      <th>source</th>\n",
       "      <th>translation_source</th>\n",
       "      <th>text</th>\n",
       "    </tr>\n",
       "  </thead>\n",
       "  <tbody>\n",
       "    <tr>\n",
       "      <th>0</th>\n",
       "      <td>AN</td>\n",
       "      <td>A Single Thing</td>\n",
       "      <td>https://www.dhammatalks.org/suttas/AN/AN1_21.html</td>\n",
       "      <td>Buddhism</td>\n",
       "      <td>Theravada</td>\n",
       "      <td>Dhamma Talks</td>\n",
       "      <td>Thanissaro Bhikkhu</td>\n",
       "      <td>21. âI donât envision a single thing that,...</td>\n",
       "    </tr>\n",
       "    <tr>\n",
       "      <th>1</th>\n",
       "      <td>AN</td>\n",
       "      <td>A Pool of Water</td>\n",
       "      <td>https://www.dhammatalks.org/suttas/AN/AN1_45.html</td>\n",
       "      <td>Buddhism</td>\n",
       "      <td>Theravada</td>\n",
       "      <td>Dhamma Talks</td>\n",
       "      <td>Thanissaro Bhikkhu</td>\n",
       "      <td>45. âSuppose there were a pool of waterâsu...</td>\n",
       "    </tr>\n",
       "    <tr>\n",
       "      <th>2</th>\n",
       "      <td>AN</td>\n",
       "      <td>Soft</td>\n",
       "      <td>https://www.dhammatalks.org/suttas/AN/AN1_48.html</td>\n",
       "      <td>Buddhism</td>\n",
       "      <td>Theravada</td>\n",
       "      <td>Dhamma Talks</td>\n",
       "      <td>Thanissaro Bhikkhu</td>\n",
       "      <td>âJust as, of all trees, the balsam is foremo...</td>\n",
       "    </tr>\n",
       "    <tr>\n",
       "      <th>3</th>\n",
       "      <td>AN</td>\n",
       "      <td>Quick to Reverse Itself</td>\n",
       "      <td>https://www.dhammatalks.org/suttas/AN/AN1_49.html</td>\n",
       "      <td>Buddhism</td>\n",
       "      <td>Theravada</td>\n",
       "      <td>Dhamma Talks</td>\n",
       "      <td>Thanissaro Bhikkhu</td>\n",
       "      <td>âI donât envision a single thing that is a...</td>\n",
       "    </tr>\n",
       "    <tr>\n",
       "      <th>4</th>\n",
       "      <td>AN</td>\n",
       "      <td>Luminous</td>\n",
       "      <td>https://www.dhammatalks.org/suttas/AN/AN1_50.html</td>\n",
       "      <td>Buddhism</td>\n",
       "      <td>Theravada</td>\n",
       "      <td>Dhamma Talks</td>\n",
       "      <td>Thanissaro Bhikkhu</td>\n",
       "      <td>âLuminous, monks, is the mind.1 And it is de...</td>\n",
       "    </tr>\n",
       "  </tbody>\n",
       "</table>\n",
       "</div>"
      ],
      "text/plain": [
       "  collection                    title  \\\n",
       "0         AN           A Single Thing   \n",
       "1         AN          A Pool of Water   \n",
       "2         AN                     Soft   \n",
       "3         AN  Quick to Reverse Itself   \n",
       "4         AN                 Luminous   \n",
       "\n",
       "                                          url_source  religion   subgroup  \\\n",
       "0  https://www.dhammatalks.org/suttas/AN/AN1_21.html  Buddhism  Theravada   \n",
       "1  https://www.dhammatalks.org/suttas/AN/AN1_45.html  Buddhism  Theravada   \n",
       "2  https://www.dhammatalks.org/suttas/AN/AN1_48.html  Buddhism  Theravada   \n",
       "3  https://www.dhammatalks.org/suttas/AN/AN1_49.html  Buddhism  Theravada   \n",
       "4  https://www.dhammatalks.org/suttas/AN/AN1_50.html  Buddhism  Theravada   \n",
       "\n",
       "         source  translation_source  \\\n",
       "0  Dhamma Talks  Thanissaro Bhikkhu   \n",
       "1  Dhamma Talks  Thanissaro Bhikkhu   \n",
       "2  Dhamma Talks  Thanissaro Bhikkhu   \n",
       "3  Dhamma Talks  Thanissaro Bhikkhu   \n",
       "4  Dhamma Talks  Thanissaro Bhikkhu   \n",
       "\n",
       "                                                text  \n",
       "0  21. âI donât envision a single thing that,...  \n",
       "1  45. âSuppose there were a pool of waterâsu...  \n",
       "2  âJust as, of all trees, the balsam is foremo...  \n",
       "3  âI donât envision a single thing that is a...  \n",
       "4  âLuminous, monks, is the mind.1 And it is de...  "
      ]
     },
     "execution_count": 4,
     "metadata": {},
     "output_type": "execute_result"
    }
   ],
   "source": [
    "dhamma_talks_suttas = pd.read_csv('data/dhamma_talks_suttas.csv', index_col=0)\n",
    "print(dhamma_talks_suttas.shape)\n",
    "dhamma_talks_suttas.head()"
   ]
  },
  {
   "cell_type": "code",
   "execution_count": 5,
   "metadata": {},
   "outputs": [
    {
     "name": "stdout",
     "output_type": "stream",
     "text": [
      "(240, 8)\n",
      "(239, 8)\n",
      "(235, 8)\n"
     ]
    },
    {
     "data": {
      "text/plain": [
       "(235, 8)"
      ]
     },
     "execution_count": 5,
     "metadata": {},
     "output_type": "execute_result"
    }
   ],
   "source": [
    "\n",
    "def decode_text(text):\n",
    "    if not isinstance(text, str):\n",
    "        return text\n",
    "    try:\n",
    "        # First try to decode as UTF-8\n",
    "        return text.encode(\"latin1\").decode(\"utf-8\")\n",
    "    except UnicodeDecodeError:\n",
    "        try:\n",
    "            # If that fails, try to decode as latin1 first\n",
    "            return text.encode(\"latin1\").decode(\"latin1\")\n",
    "        except:\n",
    "            # If all else fails, return the original text\n",
    "            return text\n",
    "\n",
    "def preprocess(df: pd.DataFrame) -> pd.DataFrame:\n",
    "    print(df.shape)\n",
    "    df = df.dropna(subset=[\"text\"])\n",
    "    print(df.shape)\n",
    "    df = df.drop_duplicates(subset=[\"text\"])\n",
    "    print(df.shape)\n",
    "    df[\"text\"] = df[\"text\"].apply(decode_text)\n",
    "    return df\n",
    "\n",
    "\n",
    "dhamma_talks_suttas = preprocess(dhamma_talks_suttas)\n",
    "dhamma_talks_suttas.shape\n"
   ]
  },
  {
   "cell_type": "markdown",
   "metadata": {},
   "source": [
    "## Create basic search"
   ]
  },
  {
   "cell_type": "code",
   "execution_count": 6,
   "metadata": {},
   "outputs": [
    {
     "name": "stderr",
     "output_type": "stream",
     "text": [
      "/Users/anthonydachille/code/unother/scripture-search/.venv/lib/python3.12/site-packages/tqdm/auto.py:21: TqdmWarning: IProgress not found. Please update jupyter and ipywidgets. See https://ipywidgets.readthedocs.io/en/stable/user_install.html\n",
      "  from .autonotebook import tqdm as notebook_tqdm\n"
     ]
    },
    {
     "name": "stdout",
     "output_type": "stream",
     "text": [
      "9158\n"
     ]
    }
   ],
   "source": [
    "from langchain.docstore.document import Document\n",
    "from langchain.text_splitter import RecursiveCharacterTextSplitter\n",
    "from smolagents import CodeAgent, HfApiModel\n",
    "\n",
    "from scripture_search.search import ScriptureSearchTool\n",
    "\n",
    "def row_to_doc(row: pd.Series) -> Document:\n",
    "    return Document(\n",
    "        page_content=row[\"text\"], \n",
    "        metadata={\n",
    "            \"collection\": row[\"collection\"],\n",
    "            \"title\": row[\"title\"],\n",
    "            \"url_source\": row[\"url_source\"],\n",
    "            \"religion\": row[\"religion\"],\n",
    "            \"subgroup\": row[\"subgroup\"],\n",
    "            \"source\": row[\"source\"],\n",
    "            \"translation_source\": row[\"translation_source\"],\n",
    "        }\n",
    "    )\n",
    "\n",
    "documents = dhamma_talks_suttas.apply(row_to_doc, axis=1).tolist()\n",
    "\n",
    "# Split the documents into smaller chunks for more efficient search\n",
    "text_splitter = RecursiveCharacterTextSplitter(\n",
    "    chunk_size=500,\n",
    "    chunk_overlap=50,\n",
    "    add_start_index=True,\n",
    "    strip_whitespace=True,\n",
    "    separators=[\"\\n\\n\", \"\\n\", \".\", \" \", \"\"],\n",
    ")\n",
    "docs_processed = text_splitter.split_documents(documents)\n",
    "print(len(docs_processed))\n",
    "\n",
    "# # Create the retriever tool\n",
    "scripture_search_tool = ScriptureSearchTool(docs_processed)"
   ]
  },
  {
   "cell_type": "code",
   "execution_count": 7,
   "metadata": {},
   "outputs": [
    {
     "name": "stdout",
     "output_type": "stream",
     "text": [
      "\n",
      " The following scriptures may be helpful:\n",
      "\n",
      "\n",
      "===== Scripture: The Simile of the Cloth | source: https://www.dhammatalks.org/suttas/MN/MN7.html =====\n",
      "wouldn’t cleanse\n",
      "a dark deed.\n",
      "What can the Sundarikā do?\n",
      "What the Payāga? What the Bāhuka?\n",
      "A person of animosity,\n",
      "one who’s done wrong,\n",
      "cannot be cleansed there\n",
      "of evil deeds.\n",
      "But for one who is pure,\n",
      "it’s always the Phaggu festival;\n",
      "for one who is pure,\n",
      "always the uposatha.\n",
      "For one who is pure, clean in his deeds,\n",
      "his practices       always\n",
      "reach consummation.\n",
      "Bathe right here, brahman.\n",
      "Create safety for yourself\n",
      "with regard to all beings.\n",
      "If you\n",
      "don’t tell a lie,\n",
      "don’t harm living beings,\n",
      "\n",
      "===== Scripture: To Gaá¹aka MoggallÄna | source: https://www.dhammatalks.org/suttas/MN/MN107.html =====\n",
      "“What can I do about that, Master Gotama? I’m the one who shows the way.”\n",
      "“In the same way, brahman—when unbinding is there, and the path leading to unbinding is there, and I am there as the guide—when my disciples are thus exhorted & instructed by me, some attain unbinding, the absolute conclusion, and some don’t. What can I do about that, brahman? The Tathāgata is the one who shows the way.”\n",
      "\n",
      "===== Scripture: The BrahmÄ Invitation | source: https://www.dhammatalks.org/suttas/MN/MN49.html =====\n",
      "“When this was said, Baka Brahmā told me, ‘But, good sir, what is actually constant I call “constant.” What is actually permanent I call “permanent.” What is actually eternal I call “eternal.” What is actually total I call “total.” What is actually not subject to falling away I call “not subject to falling away.” Where one does not take birth, age, die, fall away, or reappear, I say, “For this does not take birth, does not age, does not die, does not fall away, does not reappear\n",
      "\n",
      "===== Scripture: At Devadaha | source: https://www.dhammatalks.org/suttas/MN/MN101.html =====\n",
      ". That being the case, what kind of conviction do you have for your teacher with regard to the past? What kind of liking? What kind of unbroken tradition? What kind of\n"
     ]
    }
   ],
   "source": [
    "print(scripture_search_tool.forward(\"I struggle with motivation to meditate. What can I do?\")[:2000])"
   ]
  },
  {
   "cell_type": "markdown",
   "metadata": {},
   "source": [
    "These aren't super useful in their current form. Let's use agents to try to improve the output."
   ]
  },
  {
   "cell_type": "markdown",
   "metadata": {},
   "source": [
    "## Agentic Librarian approach\n",
    "With this approach, the agent will only directly output text from the suttas and will not try to interpret the text at all."
   ]
  },
  {
   "cell_type": "code",
   "execution_count": 12,
   "metadata": {},
   "outputs": [
    {
     "data": {
      "text/html": [
       "<pre style=\"white-space:pre;overflow-x:auto;line-height:normal;font-family:Menlo,'DejaVu Sans Mono',consolas,'Courier New',monospace\"><span style=\"color: #d4b702; text-decoration-color: #d4b702\">╭──────────────────────────────────────────────────── </span><span style=\"color: #d4b702; text-decoration-color: #d4b702; font-weight: bold\">New run</span><span style=\"color: #d4b702; text-decoration-color: #d4b702\"> ────────────────────────────────────────────────────╮</span>\n",
       "<span style=\"color: #d4b702; text-decoration-color: #d4b702\">│</span>                                                                                                                 <span style=\"color: #d4b702; text-decoration-color: #d4b702\">│</span>\n",
       "<span style=\"color: #d4b702; text-decoration-color: #d4b702\">│</span> <span style=\"font-weight: bold\">I struggle with motivation to meditate. What can I do?</span>                                                          <span style=\"color: #d4b702; text-decoration-color: #d4b702\">│</span>\n",
       "<span style=\"color: #d4b702; text-decoration-color: #d4b702\">│</span>                                                                                                                 <span style=\"color: #d4b702; text-decoration-color: #d4b702\">│</span>\n",
       "<span style=\"color: #d4b702; text-decoration-color: #d4b702\">╰─ HfApiModel - https://pflgm2locj2t89co.us-east-1.aws.endpoints.huggingface.cloud ───────────────────────────────╯</span>\n",
       "</pre>\n"
      ],
      "text/plain": [
       "\u001b[38;2;212;183;2m╭─\u001b[0m\u001b[38;2;212;183;2m───────────────────────────────────────────────────\u001b[0m\u001b[38;2;212;183;2m \u001b[0m\u001b[1;38;2;212;183;2mNew run\u001b[0m\u001b[38;2;212;183;2m \u001b[0m\u001b[38;2;212;183;2m───────────────────────────────────────────────────\u001b[0m\u001b[38;2;212;183;2m─╮\u001b[0m\n",
       "\u001b[38;2;212;183;2m│\u001b[0m                                                                                                                 \u001b[38;2;212;183;2m│\u001b[0m\n",
       "\u001b[38;2;212;183;2m│\u001b[0m \u001b[1mI struggle with motivation to meditate. What can I do?\u001b[0m                                                          \u001b[38;2;212;183;2m│\u001b[0m\n",
       "\u001b[38;2;212;183;2m│\u001b[0m                                                                                                                 \u001b[38;2;212;183;2m│\u001b[0m\n",
       "\u001b[38;2;212;183;2m╰─\u001b[0m\u001b[38;2;212;183;2m HfApiModel - https://pflgm2locj2t89co.us-east-1.aws.endpoints.huggingface.cloud \u001b[0m\u001b[38;2;212;183;2m──────────────────────────────\u001b[0m\u001b[38;2;212;183;2m─╯\u001b[0m\n"
      ]
     },
     "metadata": {},
     "output_type": "display_data"
    },
    {
     "data": {
      "text/html": [
       "<pre style=\"white-space:pre;overflow-x:auto;line-height:normal;font-family:Menlo,'DejaVu Sans Mono',consolas,'Courier New',monospace\"><span style=\"color: #d4b702; text-decoration-color: #d4b702\">━━━━━━━━━━━━━━━━━━━━━━━━━━━━━━━━━━━━━━━━━━━━━━━━━━━━━ </span><span style=\"font-weight: bold\">Step </span><span style=\"color: #008080; text-decoration-color: #008080; font-weight: bold\">1</span><span style=\"color: #d4b702; text-decoration-color: #d4b702\"> ━━━━━━━━━━━━━━━━━━━━━━━━━━━━━━━━━━━━━━━━━━━━━━━━━━━━━━</span>\n",
       "</pre>\n"
      ],
      "text/plain": [
       "\u001b[38;2;212;183;2m━━━━━━━━━━━━━━━━━━━━━━━━━━━━━━━━━━━━━━━━━━━━━━━━━━━━━ \u001b[0m\u001b[1mStep \u001b[0m\u001b[1;36m1\u001b[0m\u001b[38;2;212;183;2m ━━━━━━━━━━━━━━━━━━━━━━━━━━━━━━━━━━━━━━━━━━━━━━━━━━━━━━\u001b[0m\n"
      ]
     },
     "metadata": {},
     "output_type": "display_data"
    },
    {
     "data": {
      "text/html": [
       "<pre style=\"white-space:pre;overflow-x:auto;line-height:normal;font-family:Menlo,'DejaVu Sans Mono',consolas,'Courier New',monospace\"> ─ <span style=\"font-weight: bold\">Executing parsed code:</span> ──────────────────────────────────────────────────────────────────────────────────────── \n",
       "  <span style=\"color: #f8f8f2; text-decoration-color: #f8f8f2; background-color: #272822\">scripture_search_result </span><span style=\"color: #ff4689; text-decoration-color: #ff4689; background-color: #272822\">=</span><span style=\"color: #f8f8f2; text-decoration-color: #f8f8f2; background-color: #272822\"> scripture_search_tool(query</span><span style=\"color: #ff4689; text-decoration-color: #ff4689; background-color: #272822\">=</span><span style=\"color: #e6db74; text-decoration-color: #e6db74; background-color: #272822\">\"motivation to meditate\"</span><span style=\"color: #f8f8f2; text-decoration-color: #f8f8f2; background-color: #272822\">)</span><span style=\"background-color: #272822\">                                </span>  \n",
       "  <span style=\"color: #f8f8f2; text-decoration-color: #f8f8f2; background-color: #272822\">print(scripture_search_result)</span><span style=\"background-color: #272822\">                                                                                 </span>  \n",
       " ───────────────────────────────────────────────────────────────────────────────────────────────────────────────── \n",
       "</pre>\n"
      ],
      "text/plain": [
       " ─ \u001b[1mExecuting parsed code:\u001b[0m ──────────────────────────────────────────────────────────────────────────────────────── \n",
       "  \u001b[38;2;248;248;242;48;2;39;40;34mscripture_search_result\u001b[0m\u001b[38;2;248;248;242;48;2;39;40;34m \u001b[0m\u001b[38;2;255;70;137;48;2;39;40;34m=\u001b[0m\u001b[38;2;248;248;242;48;2;39;40;34m \u001b[0m\u001b[38;2;248;248;242;48;2;39;40;34mscripture_search_tool\u001b[0m\u001b[38;2;248;248;242;48;2;39;40;34m(\u001b[0m\u001b[38;2;248;248;242;48;2;39;40;34mquery\u001b[0m\u001b[38;2;255;70;137;48;2;39;40;34m=\u001b[0m\u001b[38;2;230;219;116;48;2;39;40;34m\"\u001b[0m\u001b[38;2;230;219;116;48;2;39;40;34mmotivation to meditate\u001b[0m\u001b[38;2;230;219;116;48;2;39;40;34m\"\u001b[0m\u001b[38;2;248;248;242;48;2;39;40;34m)\u001b[0m\u001b[48;2;39;40;34m                                \u001b[0m  \n",
       "  \u001b[38;2;248;248;242;48;2;39;40;34mprint\u001b[0m\u001b[38;2;248;248;242;48;2;39;40;34m(\u001b[0m\u001b[38;2;248;248;242;48;2;39;40;34mscripture_search_result\u001b[0m\u001b[38;2;248;248;242;48;2;39;40;34m)\u001b[0m\u001b[48;2;39;40;34m                                                                                 \u001b[0m  \n",
       " ───────────────────────────────────────────────────────────────────────────────────────────────────────────────── \n"
      ]
     },
     "metadata": {},
     "output_type": "display_data"
    },
    {
     "data": {
      "text/html": [
       "<pre style=\"white-space:pre;overflow-x:auto;line-height:normal;font-family:Menlo,'DejaVu Sans Mono',consolas,'Courier New',monospace\"><span style=\"font-weight: bold\">Execution logs:</span>\n",
       "\n",
       " The following scriptures may be helpful:\n",
       "\n",
       "\n",
       "===== Scripture: The Root Sequence | source: https://www.dhammatalks.org/suttas/MN/MN1.html =====\n",
       "Although at present we rarely think in the same terms as the Sāṅkhya philosophers, there has long been—and still \n",
       "is—a common tendency to create a “Buddhist” metaphysics in which the experience of emptiness, the Unconditioned, \n",
       "the Dharma-body, Buddha-nature, rigpa, etc., is said to function as the ground of being from which the “All”—the \n",
       "entirety of our sensory &amp; mental experience—is said to spring and to which we return when we meditate\n",
       "\n",
       "===== Scripture: The Shorter Discourse at Assapura | source: https://www.dhammatalks.org/suttas/MN/MN40.html =====\n",
       "Notes\n",
       "1. Given the widespread misperception that arahantship is a selfish goal, it’s important to take note of this \n",
       "statement—that part of the motivation to become an arahant is how it will benefit other people.\n",
       "2. The first ten stains of a contemplative are identical with the first ten of the sixteen defilements listed in MN\n",
       "7.\n",
       "3. Reading samaṇa-kasāvānaṁ with the Thai edition. Other editions read samaṇa-kasaṭānaṁ: dregs of a contemplative.\n",
       "\n",
       "===== Scripture: The Greater Discourse at Assapura | source: https://www.dhammatalks.org/suttas/MN/MN39.html =====\n",
       "That is what the Blessed One said. Gratified, the monks delighted in the Blessed One’s words.\n",
       "Notes\n",
       "1. Given the widespread misperception that arahantship is a selfish goal, it’s important to take note of this \n",
       "statement—that part of the motivation to become an arahant is how it will benefit other people.\n",
       "2. Reading, Devo ca kālena kālaṁ sammādhāraṁ anuppaveccheyya, with the Thai edition.\n",
       "3. The following passages are all based on word play in the Pali.\n",
       "See also: DN 2; MN 29–30\n",
       "\n",
       "===== Scripture: Sakkaâs Questions (Excerpt) | source: https://www.dhammatalks.org/suttas/DN/DN21.html =====\n",
       ". It didn’t lead to disenchantment, to dispassion, to cessation, to stilling, to direct knowledge to \n",
       "self-awakening, to Unbinding. But my attainment of happiness &amp; joy on hearing the Blessed One’s Dhamma is in the \n",
       "sphere of no violence, the sphere of no weapons. It leads to disenchantment, to dispassion, to cessation, to \n",
       "stilling, to direct knowledge to self-awakening, to Unbinding.”\n",
       "\n",
       "===== Scripture: About Poá¹­á¹­hapÄdaPoá¹­á¹­hapÄda SuttaÂ Â (DNÂ 9) | source: \n",
       "https://www.dhammatalks.org/suttas/DN/DN09.html =====\n",
       ". And why have I taught and declared these teachings to be categorical? Because they are conducive to the goal, \n",
       "conducive to the Dhamma, and basic to the holy life. They lead to disenchantment, to dispassion, to cessation, to \n",
       "calm, to direct knowledge, to self-awakening, to unbinding. That’s why I have taught and declared them to be \n",
       "categorical.\n",
       "\n",
       "===== Scripture: To LongNails | source: https://www.dhammatalks.org/suttas/MN/MN74.html =====\n",
       "“With regard to those contemplatives &amp; brahmans who are of the view, of the opinion that ‘A part is pleasing to me;\n",
       "a part is not pleasing to me’: Whatever is pleasing to them, their view is close to being impassioned, close to \n",
       "bondage, close to delighting, close to holding, close to clinging. Whatever is not pleasing to them, their view is \n",
       "close to not being impassioned, close to non-bondage, close to not-delighting, close to not-holding, close to \n",
       "not-clinging.\n",
       "\n",
       "===== Scripture: The Shorter Set of Questions &amp; Answers | source: https://www.dhammatalks.org/suttas/MN/MN44.html \n",
       "=====\n",
       "“No.…”\n",
       "“But what is to be abandoned with regard to pleasant feeling? What is to be abandoned with regard to painful \n",
       "feeling? What is to be abandoned with regard to neither-pleasant-nor-painful feeling?”\n",
       "“Passion-obsession is to be abandoned with regard to pleasant feeling. Resistance-obsession is to be abandoned with\n",
       "regard to painful feeling. Ignorance-obsession is to be abandoned with regard to neither-pleasant-nor-painful \n",
       "feeling.”\n",
       "\n",
       "===== Scripture: About Poá¹­á¹­hapÄdaPoá¹­á¹­hapÄda SuttaÂ Â (DNÂ 9) | source: \n",
       "https://www.dhammatalks.org/suttas/DN/DN09.html =====\n",
       ". And why have I taught and declared these teachings to be not categorical? Because they are not conducive to the \n",
       "goal, are not conducive to the Dhamma, are not basic to the holy life. They don’t lead to disenchantment, to \n",
       "dispassion, to cessation, to calm, to direct knowledge, to self-awakening, to unbinding. That’s why I have taught \n",
       "and declared them to be not categorical.\n",
       "\n",
       "===== Scripture: About Poá¹­á¹­hapÄdaPoá¹­á¹­hapÄda SuttaÂ Â (DNÂ 9) | source: \n",
       "https://www.dhammatalks.org/suttas/DN/DN09.html =====\n",
       "“Because they are conducive to the goal, conducive to the Dhamma, and basic to the holy life. They lead to \n",
       "disenchantment, to dispassion, to cessation, to stilling, to direct knowledge, to self-awakening, to unbinding. \n",
       "That’s why I have expounded them.”\n",
       "“So it is, Blessed One. So it is, O One Well-Gone. Well now, it’s time for the Blessed One to do as he sees fit.”\n",
       "Then the Blessed One got up from his seat and left.\n",
       "\n",
       "===== Scripture: The Shorter Set of Questions &amp; Answers | source: https://www.dhammatalks.org/suttas/MN/MN44.html \n",
       "=====\n",
       "“Is passion-obsession to be abandoned with regard to all pleasant feeling? Is resistance-obsession to be abandoned \n",
       "with regard to all painful feeling? Is ignorance-obsession to be abandoned with regard to all \n",
       "neither-pleasant-nor-painful feeling?”\n",
       "\n",
       "Out: None\n",
       "</pre>\n"
      ],
      "text/plain": [
       "\u001b[1mExecution logs:\u001b[0m\n",
       "\n",
       " The following scriptures may be helpful:\n",
       "\n",
       "\n",
       "===== Scripture: The Root Sequence | source: https://www.dhammatalks.org/suttas/MN/MN1.html =====\n",
       "Although at present we rarely think in the same terms as the Sāṅkhya philosophers, there has long been—and still \n",
       "is—a common tendency to create a “Buddhist” metaphysics in which the experience of emptiness, the Unconditioned, \n",
       "the Dharma-body, Buddha-nature, rigpa, etc., is said to function as the ground of being from which the “All”—the \n",
       "entirety of our sensory & mental experience—is said to spring and to which we return when we meditate\n",
       "\n",
       "===== Scripture: The Shorter Discourse at Assapura | source: https://www.dhammatalks.org/suttas/MN/MN40.html =====\n",
       "Notes\n",
       "1. Given the widespread misperception that arahantship is a selfish goal, it’s important to take note of this \n",
       "statement—that part of the motivation to become an arahant is how it will benefit other people.\n",
       "2. The first ten stains of a contemplative are identical with the first ten of the sixteen defilements listed in MN\n",
       "7.\n",
       "3. Reading samaṇa-kasāvānaṁ with the Thai edition. Other editions read samaṇa-kasaṭānaṁ: dregs of a contemplative.\n",
       "\n",
       "===== Scripture: The Greater Discourse at Assapura | source: https://www.dhammatalks.org/suttas/MN/MN39.html =====\n",
       "That is what the Blessed One said. Gratified, the monks delighted in the Blessed One’s words.\n",
       "Notes\n",
       "1. Given the widespread misperception that arahantship is a selfish goal, it’s important to take note of this \n",
       "statement—that part of the motivation to become an arahant is how it will benefit other people.\n",
       "2. Reading, Devo ca kālena kālaṁ sammādhāraṁ anuppaveccheyya, with the Thai edition.\n",
       "3. The following passages are all based on word play in the Pali.\n",
       "See also: DN 2; MN 29–30\n",
       "\n",
       "===== Scripture: Sakkaâs Questions (Excerpt) | source: https://www.dhammatalks.org/suttas/DN/DN21.html =====\n",
       ". It didn’t lead to disenchantment, to dispassion, to cessation, to stilling, to direct knowledge to \n",
       "self-awakening, to Unbinding. But my attainment of happiness & joy on hearing the Blessed One’s Dhamma is in the \n",
       "sphere of no violence, the sphere of no weapons. It leads to disenchantment, to dispassion, to cessation, to \n",
       "stilling, to direct knowledge to self-awakening, to Unbinding.”\n",
       "\n",
       "===== Scripture: About Poá¹­á¹­hapÄdaPoá¹­á¹­hapÄda SuttaÂ Â (DNÂ 9) | source: \n",
       "https://www.dhammatalks.org/suttas/DN/DN09.html =====\n",
       ". And why have I taught and declared these teachings to be categorical? Because they are conducive to the goal, \n",
       "conducive to the Dhamma, and basic to the holy life. They lead to disenchantment, to dispassion, to cessation, to \n",
       "calm, to direct knowledge, to self-awakening, to unbinding. That’s why I have taught and declared them to be \n",
       "categorical.\n",
       "\n",
       "===== Scripture: To LongNails | source: https://www.dhammatalks.org/suttas/MN/MN74.html =====\n",
       "“With regard to those contemplatives & brahmans who are of the view, of the opinion that ‘A part is pleasing to me;\n",
       "a part is not pleasing to me’: Whatever is pleasing to them, their view is close to being impassioned, close to \n",
       "bondage, close to delighting, close to holding, close to clinging. Whatever is not pleasing to them, their view is \n",
       "close to not being impassioned, close to non-bondage, close to not-delighting, close to not-holding, close to \n",
       "not-clinging.\n",
       "\n",
       "===== Scripture: The Shorter Set of Questions & Answers | source: https://www.dhammatalks.org/suttas/MN/MN44.html \n",
       "=====\n",
       "“No.…”\n",
       "“But what is to be abandoned with regard to pleasant feeling? What is to be abandoned with regard to painful \n",
       "feeling? What is to be abandoned with regard to neither-pleasant-nor-painful feeling?”\n",
       "“Passion-obsession is to be abandoned with regard to pleasant feeling. Resistance-obsession is to be abandoned with\n",
       "regard to painful feeling. Ignorance-obsession is to be abandoned with regard to neither-pleasant-nor-painful \n",
       "feeling.”\n",
       "\n",
       "===== Scripture: About Poá¹­á¹­hapÄdaPoá¹­á¹­hapÄda SuttaÂ Â (DNÂ 9) | source: \n",
       "https://www.dhammatalks.org/suttas/DN/DN09.html =====\n",
       ". And why have I taught and declared these teachings to be not categorical? Because they are not conducive to the \n",
       "goal, are not conducive to the Dhamma, are not basic to the holy life. They don’t lead to disenchantment, to \n",
       "dispassion, to cessation, to calm, to direct knowledge, to self-awakening, to unbinding. That’s why I have taught \n",
       "and declared them to be not categorical.\n",
       "\n",
       "===== Scripture: About Poá¹­á¹­hapÄdaPoá¹­á¹­hapÄda SuttaÂ Â (DNÂ 9) | source: \n",
       "https://www.dhammatalks.org/suttas/DN/DN09.html =====\n",
       "“Because they are conducive to the goal, conducive to the Dhamma, and basic to the holy life. They lead to \n",
       "disenchantment, to dispassion, to cessation, to stilling, to direct knowledge, to self-awakening, to unbinding. \n",
       "That’s why I have expounded them.”\n",
       "“So it is, Blessed One. So it is, O One Well-Gone. Well now, it’s time for the Blessed One to do as he sees fit.”\n",
       "Then the Blessed One got up from his seat and left.\n",
       "\n",
       "===== Scripture: The Shorter Set of Questions & Answers | source: https://www.dhammatalks.org/suttas/MN/MN44.html \n",
       "=====\n",
       "“Is passion-obsession to be abandoned with regard to all pleasant feeling? Is resistance-obsession to be abandoned \n",
       "with regard to all painful feeling? Is ignorance-obsession to be abandoned with regard to all \n",
       "neither-pleasant-nor-painful feeling?”\n",
       "\n",
       "Out: None\n"
      ]
     },
     "metadata": {},
     "output_type": "display_data"
    },
    {
     "data": {
      "text/html": [
       "<pre style=\"white-space:pre;overflow-x:auto;line-height:normal;font-family:Menlo,'DejaVu Sans Mono',consolas,'Courier New',monospace\"><span style=\"color: #7f7f7f; text-decoration-color: #7f7f7f\">[Step 1: Duration 2.22 seconds| Input tokens: 2,079 | Output tokens: 71]</span>\n",
       "</pre>\n"
      ],
      "text/plain": [
       "\u001b[2m[Step 1: Duration 2.22 seconds| Input tokens: 2,079 | Output tokens: 71]\u001b[0m\n"
      ]
     },
     "metadata": {},
     "output_type": "display_data"
    },
    {
     "data": {
      "text/html": [
       "<pre style=\"white-space:pre;overflow-x:auto;line-height:normal;font-family:Menlo,'DejaVu Sans Mono',consolas,'Courier New',monospace\"><span style=\"color: #d4b702; text-decoration-color: #d4b702\">━━━━━━━━━━━━━━━━━━━━━━━━━━━━━━━━━━━━━━━━━━━━━━━━━━━━━ </span><span style=\"font-weight: bold\">Step </span><span style=\"color: #008080; text-decoration-color: #008080; font-weight: bold\">2</span><span style=\"color: #d4b702; text-decoration-color: #d4b702\"> ━━━━━━━━━━━━━━━━━━━━━━━━━━━━━━━━━━━━━━━━━━━━━━━━━━━━━━</span>\n",
       "</pre>\n"
      ],
      "text/plain": [
       "\u001b[38;2;212;183;2m━━━━━━━━━━━━━━━━━━━━━━━━━━━━━━━━━━━━━━━━━━━━━━━━━━━━━ \u001b[0m\u001b[1mStep \u001b[0m\u001b[1;36m2\u001b[0m\u001b[38;2;212;183;2m ━━━━━━━━━━━━━━━━━━━━━━━━━━━━━━━━━━━━━━━━━━━━━━━━━━━━━━\u001b[0m\n"
      ]
     },
     "metadata": {},
     "output_type": "display_data"
    },
    {
     "data": {
      "text/html": [
       "<pre style=\"white-space:pre;overflow-x:auto;line-height:normal;font-family:Menlo,'DejaVu Sans Mono',consolas,'Courier New',monospace\"> ─ <span style=\"font-weight: bold\">Executing parsed code:</span> ──────────────────────────────────────────────────────────────────────────────────────── \n",
       "  <span style=\"color: #f8f8f2; text-decoration-color: #f8f8f2; background-color: #272822\">advice </span><span style=\"color: #ff4689; text-decoration-color: #ff4689; background-color: #272822\">=</span><span style=\"color: #f8f8f2; text-decoration-color: #f8f8f2; background-color: #272822\"> </span><span style=\"color: #e6db74; text-decoration-color: #e6db74; background-color: #272822\">\"To find motivation to meditate, focus on the benefits of developing dispassion and gaining a deeper </span><span style=\"background-color: #272822\"> </span>  \n",
       "  <span style=\"color: #e6db74; text-decoration-color: #e6db74; background-color: #272822\">understanding of your own mind and emotions. Remember that meditation can lead to diminished suffering and </span><span style=\"background-color: #272822\">    </span>  \n",
       "  <span style=\"color: #e6db74; text-decoration-color: #e6db74; background-color: #272822\">greater well-being. Start with short sessions and gradually increase the duration. Celebrate small victories </span><span style=\"background-color: #272822\">  </span>  \n",
       "  <span style=\"color: #e6db74; text-decoration-color: #e6db74; background-color: #272822\">and be patient with yourself. Meditation is a practice that requires consistent effort, and the benefits often </span>  \n",
       "  <span style=\"color: #e6db74; text-decoration-color: #e6db74; background-color: #272822\">become more apparent over time.\"</span><span style=\"background-color: #272822\">                                                                               </span>  \n",
       "  <span style=\"color: #f8f8f2; text-decoration-color: #f8f8f2; background-color: #272822\">final_answer(advice)</span><span style=\"background-color: #272822\">                                                                                           </span>  \n",
       " ───────────────────────────────────────────────────────────────────────────────────────────────────────────────── \n",
       "</pre>\n"
      ],
      "text/plain": [
       " ─ \u001b[1mExecuting parsed code:\u001b[0m ──────────────────────────────────────────────────────────────────────────────────────── \n",
       "  \u001b[38;2;248;248;242;48;2;39;40;34madvice\u001b[0m\u001b[38;2;248;248;242;48;2;39;40;34m \u001b[0m\u001b[38;2;255;70;137;48;2;39;40;34m=\u001b[0m\u001b[38;2;248;248;242;48;2;39;40;34m \u001b[0m\u001b[38;2;230;219;116;48;2;39;40;34m\"\u001b[0m\u001b[38;2;230;219;116;48;2;39;40;34mTo find motivation to meditate, focus on the benefits of developing dispassion and gaining a deeper \u001b[0m\u001b[48;2;39;40;34m \u001b[0m  \n",
       "  \u001b[38;2;230;219;116;48;2;39;40;34munderstanding of your own mind and emotions. Remember that meditation can lead to diminished suffering and \u001b[0m\u001b[48;2;39;40;34m    \u001b[0m  \n",
       "  \u001b[38;2;230;219;116;48;2;39;40;34mgreater well-being. Start with short sessions and gradually increase the duration. Celebrate small victories \u001b[0m\u001b[48;2;39;40;34m  \u001b[0m  \n",
       "  \u001b[38;2;230;219;116;48;2;39;40;34mand be patient with yourself. Meditation is a practice that requires consistent effort, and the benefits often \u001b[0m  \n",
       "  \u001b[38;2;230;219;116;48;2;39;40;34mbecome more apparent over time.\u001b[0m\u001b[38;2;230;219;116;48;2;39;40;34m\"\u001b[0m\u001b[48;2;39;40;34m                                                                               \u001b[0m  \n",
       "  \u001b[38;2;248;248;242;48;2;39;40;34mfinal_answer\u001b[0m\u001b[38;2;248;248;242;48;2;39;40;34m(\u001b[0m\u001b[38;2;248;248;242;48;2;39;40;34madvice\u001b[0m\u001b[38;2;248;248;242;48;2;39;40;34m)\u001b[0m\u001b[48;2;39;40;34m                                                                                           \u001b[0m  \n",
       " ───────────────────────────────────────────────────────────────────────────────────────────────────────────────── \n"
      ]
     },
     "metadata": {},
     "output_type": "display_data"
    },
    {
     "data": {
      "text/html": [
       "<pre style=\"white-space:pre;overflow-x:auto;line-height:normal;font-family:Menlo,'DejaVu Sans Mono',consolas,'Courier New',monospace\"><span style=\"color: #d4b702; text-decoration-color: #d4b702; font-weight: bold\">Out - Final answer: To find motivation to meditate, focus on the benefits of developing dispassion and gaining a </span>\n",
       "<span style=\"color: #d4b702; text-decoration-color: #d4b702; font-weight: bold\">deeper understanding of your own mind and emotions. Remember that meditation can lead to diminished suffering and </span>\n",
       "<span style=\"color: #d4b702; text-decoration-color: #d4b702; font-weight: bold\">greater well-being. Start with short sessions and gradually increase the duration. Celebrate small victories and be</span>\n",
       "<span style=\"color: #d4b702; text-decoration-color: #d4b702; font-weight: bold\">patient with yourself. Meditation is a practice that requires consistent effort, and the benefits often become more</span>\n",
       "<span style=\"color: #d4b702; text-decoration-color: #d4b702; font-weight: bold\">apparent over time.</span>\n",
       "</pre>\n"
      ],
      "text/plain": [
       "\u001b[1;38;2;212;183;2mOut - Final answer: To find motivation to meditate, focus on the benefits of developing dispassion and gaining a \u001b[0m\n",
       "\u001b[1;38;2;212;183;2mdeeper understanding of your own mind and emotions. Remember that meditation can lead to diminished suffering and \u001b[0m\n",
       "\u001b[1;38;2;212;183;2mgreater well-being. Start with short sessions and gradually increase the duration. Celebrate small victories and be\u001b[0m\n",
       "\u001b[1;38;2;212;183;2mpatient with yourself. Meditation is a practice that requires consistent effort, and the benefits often become more\u001b[0m\n",
       "\u001b[1;38;2;212;183;2mapparent over time.\u001b[0m\n"
      ]
     },
     "metadata": {},
     "output_type": "display_data"
    },
    {
     "data": {
      "text/html": [
       "<pre style=\"white-space:pre;overflow-x:auto;line-height:normal;font-family:Menlo,'DejaVu Sans Mono',consolas,'Courier New',monospace\"><span style=\"color: #7f7f7f; text-decoration-color: #7f7f7f\">[Step 2: Duration 5.63 seconds| Input tokens: 5,742 | Output tokens: 258]</span>\n",
       "</pre>\n"
      ],
      "text/plain": [
       "\u001b[2m[Step 2: Duration 5.63 seconds| Input tokens: 5,742 | Output tokens: 258]\u001b[0m\n"
      ]
     },
     "metadata": {},
     "output_type": "display_data"
    },
    {
     "ename": "AttributeError",
     "evalue": "'AgentText' object has no attribute 'output'",
     "output_type": "error",
     "traceback": [
      "\u001b[31m---------------------------------------------------------------------------\u001b[39m",
      "\u001b[31mAttributeError\u001b[39m                            Traceback (most recent call last)",
      "\u001b[36mCell\u001b[39m\u001b[36m \u001b[39m\u001b[32mIn[12]\u001b[39m\u001b[32m, line 27\u001b[39m\n\u001b[32m     22\u001b[39m \u001b[38;5;66;03m# # Example usage\u001b[39;00m\n\u001b[32m     23\u001b[39m response = agent.run(\n\u001b[32m     24\u001b[39m     \u001b[33m\"\u001b[39m\u001b[33mI struggle with motivation to meditate. What can I do?\u001b[39m\u001b[33m\"\u001b[39m\n\u001b[32m     25\u001b[39m )\n\u001b[32m---> \u001b[39m\u001b[32m27\u001b[39m \u001b[38;5;28mprint\u001b[39m(\u001b[43mresponse\u001b[49m\u001b[43m.\u001b[49m\u001b[43moutput\u001b[49m)\n",
      "\u001b[31mAttributeError\u001b[39m: 'AgentText' object has no attribute 'output'"
     ]
    }
   ],
   "source": [
    "# # Initialize the agent\n",
    "model = HfApiModel(\n",
    "    # model_id='Qwen/Qwen2.5-Coder-32B-Instruct', # it is possible that this model may be overloaded\n",
    "    model_id=\"https://pflgm2locj2t89co.us-east-1.aws.endpoints.huggingface.cloud\",\n",
    "    token=os.getenv(\"HF_TOKEN\"),\n",
    ")\n",
    "system_prompt=\"\"\"You are a helpful librarian specializing in Buddhist texts and teachings.\n",
    "When a user asks a question, use the scripture_search_tool tool to find relevant passages from the suttas.\n",
    "You may need to refine the search query to get better results. Finally, provide the passages\n",
    "as are, without any additional commentary or interpretation. Use the same format as the search tool\n",
    "for your output.\n",
    "\"\"\"\n",
    "agent = CodeAgent(tools=[scripture_search_tool], model=model)\n",
    "# Add the system prompt to the input messages\n",
    "agent.input_messages = [\n",
    "    {\n",
    "        \"role\": \"system\",\n",
    "        \"content\": system_prompt,\n",
    "    }\n",
    "]\n",
    "\n",
    "# # Example usage\n",
    "response = agent.run(\n",
    "    \"I struggle with motivation to meditate. What can I do?\"\n",
    ")\n"
   ]
  },
  {
   "cell_type": "code",
   "execution_count": 15,
   "metadata": {},
   "outputs": [
    {
     "ename": "AttributeError",
     "evalue": "'AgentText' object has no attribute 'wrap_text'",
     "output_type": "error",
     "traceback": [
      "\u001b[31m---------------------------------------------------------------------------\u001b[39m",
      "\u001b[31mAttributeError\u001b[39m                            Traceback (most recent call last)",
      "\u001b[36mCell\u001b[39m\u001b[36m \u001b[39m\u001b[32mIn[15]\u001b[39m\u001b[32m, line 1\u001b[39m\n\u001b[32m----> \u001b[39m\u001b[32m1\u001b[39m \u001b[38;5;28mprint\u001b[39m(\u001b[43mresponse\u001b[49m\u001b[43m.\u001b[49m\u001b[43mwrap_text\u001b[49m(width=\u001b[32m100\u001b[39m))\n",
      "\u001b[31mAttributeError\u001b[39m: 'AgentText' object has no attribute 'wrap_text'"
     ]
    }
   ],
   "source": [
    "print(response)"
   ]
  },
  {
   "cell_type": "code",
   "execution_count": null,
   "metadata": {},
   "outputs": [],
   "source": []
  }
 ],
 "metadata": {
  "kernelspec": {
   "display_name": ".venv",
   "language": "python",
   "name": "python3"
  },
  "language_info": {
   "codemirror_mode": {
    "name": "ipython",
    "version": 3
   },
   "file_extension": ".py",
   "mimetype": "text/x-python",
   "name": "python",
   "nbconvert_exporter": "python",
   "pygments_lexer": "ipython3",
   "version": "3.12.9"
  }
 },
 "nbformat": 4,
 "nbformat_minor": 2
}
