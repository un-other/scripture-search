{
 "cells": [
  {
   "cell_type": "markdown",
   "id": "b9ae4037-917d-4003-a2b1-72aba3e2708e",
   "metadata": {},
   "source": [
    "# 2025-03-02 Collect Data from Dhamma Talks\n",
    "In this notebook, we will collect data from the Dhamma Talks website. "
   ]
  },
  {
   "cell_type": "code",
   "execution_count": 1,
   "id": "00f84305",
   "metadata": {},
   "outputs": [],
   "source": [
    "%load_ext autoreload\n",
    "%autoreload 2"
   ]
  },
  {
   "cell_type": "code",
   "execution_count": 2,
   "id": "5f9a9d5b-893d-44ae-9a55-566117fb9b1b",
   "metadata": {},
   "outputs": [],
   "source": [
    "import os\n",
    "\n",
    "# Move execution back one directory.\n",
    "os.chdir('..')"
   ]
  },
  {
   "cell_type": "code",
   "execution_count": 3,
   "id": "0c35e870",
   "metadata": {},
   "outputs": [],
   "source": [
    "from scripture_search.config import Config\n",
    "from scripture_search.data_collection.dhamma_talks import DhammaTalksCollector\n",
    "\n",
    "config = Config()\n",
    "collector = DhammaTalksCollector()"
   ]
  },
  {
   "cell_type": "code",
   "execution_count": null,
   "id": "95e9d295",
   "metadata": {},
   "outputs": [],
   "source": [
    "data = collector.get_data()\n",
    "data.head()"
   ]
  },
  {
   "cell_type": "code",
   "execution_count": null,
   "id": "52e56a66",
   "metadata": {},
   "outputs": [],
   "source": []
  }
 ],
 "metadata": {
  "kernelspec": {
   "display_name": "Python 3 (ipykernel)",
   "language": "python",
   "name": "python3"
  },
  "language_info": {
   "codemirror_mode": {
    "name": "ipython",
    "version": 3
   },
   "file_extension": ".py",
   "mimetype": "text/x-python",
   "name": "python",
   "nbconvert_exporter": "python",
   "pygments_lexer": "ipython3",
   "version": "3.12.9"
  }
 },
 "nbformat": 4,
 "nbformat_minor": 5
}
