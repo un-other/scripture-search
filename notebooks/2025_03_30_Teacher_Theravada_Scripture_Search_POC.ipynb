{
 "cells": [
  {
   "cell_type": "markdown",
   "metadata": {},
   "source": [
    "# Theravada Scripture Search POC\n",
    "\n",
    "In this notebook, we'll create a proof-of-concept of search over the translated Theravadan texts from https://www.dhammatalks.org/suttas/."
   ]
  },
  {
   "cell_type": "markdown",
   "metadata": {},
   "source": [
    "## Setup"
   ]
  },
  {
   "cell_type": "code",
   "execution_count": 1,
   "metadata": {},
   "outputs": [],
   "source": [
    "\n",
    "# Run once.\n",
    "\n",
    "%load_ext autoreload\n",
    "%autoreload 2\n",
    "\n",
    "import os\n",
    "\n",
    "# Move execution back one directory.\n",
    "os.chdir('..')"
   ]
  },
  {
   "cell_type": "code",
   "execution_count": 55,
   "metadata": {},
   "outputs": [
    {
     "data": {
      "text/html": [
       "\n",
       "<style>\n",
       ".output_scroll {\n",
       "    max-height: 400px;\n",
       "    overflow-y: auto;\n",
       "}\n",
       "</style>\n"
      ],
      "text/plain": [
       "<IPython.core.display.HTML object>"
      ]
     },
     "execution_count": 55,
     "metadata": {},
     "output_type": "execute_result"
    }
   ],
   "source": [
    "from IPython.display import HTML\n",
    "\n",
    "HTML(\n",
    "    \"\"\"\n",
    "<style>\n",
    ".output_scroll {\n",
    "    max-height: 400px;\n",
    "    overflow-y: auto;\n",
    "}\n",
    "</style>\n",
    "\"\"\"\n",
    ")"
   ]
  },
  {
   "cell_type": "code",
   "execution_count": 52,
   "metadata": {},
   "outputs": [
    {
     "data": {
      "text/plain": [
       "True"
      ]
     },
     "execution_count": 52,
     "metadata": {},
     "output_type": "execute_result"
    }
   ],
   "source": [
    "import pandas as pd\n",
    "from dotenv import load_dotenv\n",
    "\n",
    "load_dotenv()\n"
   ]
  },
  {
   "cell_type": "markdown",
   "metadata": {},
   "source": [
    "## Load data"
   ]
  },
  {
   "cell_type": "code",
   "execution_count": 40,
   "metadata": {},
   "outputs": [
    {
     "name": "stdout",
     "output_type": "stream",
     "text": [
      "(240, 8)\n"
     ]
    },
    {
     "data": {
      "text/html": [
       "<div>\n",
       "<style scoped>\n",
       "    .dataframe tbody tr th:only-of-type {\n",
       "        vertical-align: middle;\n",
       "    }\n",
       "\n",
       "    .dataframe tbody tr th {\n",
       "        vertical-align: top;\n",
       "    }\n",
       "\n",
       "    .dataframe thead th {\n",
       "        text-align: right;\n",
       "    }\n",
       "</style>\n",
       "<table border=\"1\" class=\"dataframe\">\n",
       "  <thead>\n",
       "    <tr style=\"text-align: right;\">\n",
       "      <th></th>\n",
       "      <th>collection</th>\n",
       "      <th>title</th>\n",
       "      <th>url_source</th>\n",
       "      <th>religion</th>\n",
       "      <th>subgroup</th>\n",
       "      <th>source</th>\n",
       "      <th>translation_source</th>\n",
       "      <th>text</th>\n",
       "    </tr>\n",
       "  </thead>\n",
       "  <tbody>\n",
       "    <tr>\n",
       "      <th>0</th>\n",
       "      <td>AN</td>\n",
       "      <td>A Single Thing</td>\n",
       "      <td>https://www.dhammatalks.org/suttas/AN/AN1_21.html</td>\n",
       "      <td>Buddhism</td>\n",
       "      <td>Theravada</td>\n",
       "      <td>Dhamma Talks</td>\n",
       "      <td>Thanissaro Bhikkhu</td>\n",
       "      <td>21. âI donât envision a single thing that,...</td>\n",
       "    </tr>\n",
       "    <tr>\n",
       "      <th>1</th>\n",
       "      <td>AN</td>\n",
       "      <td>A Pool of Water</td>\n",
       "      <td>https://www.dhammatalks.org/suttas/AN/AN1_45.html</td>\n",
       "      <td>Buddhism</td>\n",
       "      <td>Theravada</td>\n",
       "      <td>Dhamma Talks</td>\n",
       "      <td>Thanissaro Bhikkhu</td>\n",
       "      <td>45. âSuppose there were a pool of waterâsu...</td>\n",
       "    </tr>\n",
       "    <tr>\n",
       "      <th>2</th>\n",
       "      <td>AN</td>\n",
       "      <td>Soft</td>\n",
       "      <td>https://www.dhammatalks.org/suttas/AN/AN1_48.html</td>\n",
       "      <td>Buddhism</td>\n",
       "      <td>Theravada</td>\n",
       "      <td>Dhamma Talks</td>\n",
       "      <td>Thanissaro Bhikkhu</td>\n",
       "      <td>âJust as, of all trees, the balsam is foremo...</td>\n",
       "    </tr>\n",
       "    <tr>\n",
       "      <th>3</th>\n",
       "      <td>AN</td>\n",
       "      <td>Quick to Reverse Itself</td>\n",
       "      <td>https://www.dhammatalks.org/suttas/AN/AN1_49.html</td>\n",
       "      <td>Buddhism</td>\n",
       "      <td>Theravada</td>\n",
       "      <td>Dhamma Talks</td>\n",
       "      <td>Thanissaro Bhikkhu</td>\n",
       "      <td>âI donât envision a single thing that is a...</td>\n",
       "    </tr>\n",
       "    <tr>\n",
       "      <th>4</th>\n",
       "      <td>AN</td>\n",
       "      <td>Luminous</td>\n",
       "      <td>https://www.dhammatalks.org/suttas/AN/AN1_50.html</td>\n",
       "      <td>Buddhism</td>\n",
       "      <td>Theravada</td>\n",
       "      <td>Dhamma Talks</td>\n",
       "      <td>Thanissaro Bhikkhu</td>\n",
       "      <td>âLuminous, monks, is the mind.1 And it is de...</td>\n",
       "    </tr>\n",
       "  </tbody>\n",
       "</table>\n",
       "</div>"
      ],
      "text/plain": [
       "  collection                    title  \\\n",
       "0         AN           A Single Thing   \n",
       "1         AN          A Pool of Water   \n",
       "2         AN                     Soft   \n",
       "3         AN  Quick to Reverse Itself   \n",
       "4         AN                 Luminous   \n",
       "\n",
       "                                          url_source  religion   subgroup  \\\n",
       "0  https://www.dhammatalks.org/suttas/AN/AN1_21.html  Buddhism  Theravada   \n",
       "1  https://www.dhammatalks.org/suttas/AN/AN1_45.html  Buddhism  Theravada   \n",
       "2  https://www.dhammatalks.org/suttas/AN/AN1_48.html  Buddhism  Theravada   \n",
       "3  https://www.dhammatalks.org/suttas/AN/AN1_49.html  Buddhism  Theravada   \n",
       "4  https://www.dhammatalks.org/suttas/AN/AN1_50.html  Buddhism  Theravada   \n",
       "\n",
       "         source  translation_source  \\\n",
       "0  Dhamma Talks  Thanissaro Bhikkhu   \n",
       "1  Dhamma Talks  Thanissaro Bhikkhu   \n",
       "2  Dhamma Talks  Thanissaro Bhikkhu   \n",
       "3  Dhamma Talks  Thanissaro Bhikkhu   \n",
       "4  Dhamma Talks  Thanissaro Bhikkhu   \n",
       "\n",
       "                                                text  \n",
       "0  21. âI donât envision a single thing that,...  \n",
       "1  45. âSuppose there were a pool of waterâsu...  \n",
       "2  âJust as, of all trees, the balsam is foremo...  \n",
       "3  âI donât envision a single thing that is a...  \n",
       "4  âLuminous, monks, is the mind.1 And it is de...  "
      ]
     },
     "execution_count": 40,
     "metadata": {},
     "output_type": "execute_result"
    }
   ],
   "source": [
    "dhamma_talks_suttas = pd.read_csv('data/dhamma_talks_suttas.csv', index_col=0)\n",
    "print(dhamma_talks_suttas.shape)\n",
    "dhamma_talks_suttas.head()"
   ]
  },
  {
   "cell_type": "code",
   "execution_count": 63,
   "metadata": {},
   "outputs": [
    {
     "name": "stdout",
     "output_type": "stream",
     "text": [
      "(235, 8)\n",
      "(235, 8)\n",
      "(235, 8)\n"
     ]
    },
    {
     "data": {
      "text/plain": [
       "(235, 8)"
      ]
     },
     "execution_count": 63,
     "metadata": {},
     "output_type": "execute_result"
    }
   ],
   "source": [
    "\n",
    "def decode_text(text):\n",
    "    if not isinstance(text, str):\n",
    "        return text\n",
    "    try:\n",
    "        # First try to decode as UTF-8\n",
    "        return text.encode(\"latin1\").decode(\"utf-8\")\n",
    "    except UnicodeDecodeError:\n",
    "        try:\n",
    "            # If that fails, try to decode as latin1 first\n",
    "            return text.encode(\"latin1\").decode(\"latin1\")\n",
    "        except:\n",
    "            # If all else fails, return the original text\n",
    "            return text\n",
    "\n",
    "def preprocess(df: pd.DataFrame) -> pd.DataFrame:\n",
    "    print(df.shape)\n",
    "    df = df.dropna(subset=[\"text\"])\n",
    "    print(df.shape)\n",
    "    df = df.drop_duplicates(subset=[\"text\"])\n",
    "    print(df.shape)\n",
    "    df[\"text\"] = df[\"text\"].apply(decode_text)\n",
    "    return df\n",
    "\n",
    "\n",
    "dhamma_talks_suttas = preprocess(dhamma_talks_suttas)\n",
    "dhamma_talks_suttas.shape\n"
   ]
  },
  {
   "cell_type": "markdown",
   "metadata": {},
   "source": [
    "## Create Vector Store"
   ]
  },
  {
   "cell_type": "code",
   "execution_count": null,
   "metadata": {},
   "outputs": [],
   "source": [
    "\n",
    "from langchain_community.embeddings import HuggingFaceEmbeddings\n",
    "from langchain_community.vectorstores import FAISS\n",
    "\n",
    "def create_vector_store(df: pd.DataFrame) -> FAISS:\n",
    "    \"\"\"Create a FAISS vector store from the DataFrame.\"\"\"\n",
    "    # Initialize the embedding model\n",
    "    embeddings = HuggingFaceEmbeddings(\n",
    "        model_name=\"sentence-transformers/all-MiniLM-L6-v2\"\n",
    "    )\n",
    "\n",
    "    # Create documents for the vector store\n",
    "    documents = []\n",
    "    for _, row in df.iterrows():\n",
    "        doc = {\n",
    "            \"page_content\": row[\"text\"],\n",
    "            \"metadata\": {\n",
    "                \"title\": row[\"title\"],\n",
    "                \"collection\": row[\"collection\"],\n",
    "                \"url_source\": row[\"url_source\"],\n",
    "                \"religion\": row[\"religion\"],\n",
    "                \"subgroup\": row[\"subgroup\"],\n",
    "                \"source\": row[\"source\"],\n",
    "                \"translation_source\": row[\"translation_source\"],\n",
    "            },\n",
    "        }\n",
    "        documents.append(doc)\n",
    "\n",
    "    # Create and return the vector store\n",
    "    return FAISS.from_documents(documents, embeddings)\n",
    "\n",
    "\n",
    "vector_store = create_vector_store(dhamma_talks_suttas)"
   ]
  },
  {
   "cell_type": "code",
   "execution_count": null,
   "metadata": {},
   "outputs": [],
   "source": []
  },
  {
   "cell_type": "markdown",
   "metadata": {},
   "source": [
    "## Create basic search"
   ]
  },
  {
   "cell_type": "code",
   "execution_count": 64,
   "metadata": {},
   "outputs": [
    {
     "name": "stdout",
     "output_type": "stream",
     "text": [
      "9158\n"
     ]
    }
   ],
   "source": [
    "from smolagents.tools import Tool\n",
    "\n",
    "\n",
    "class SuttaSearchTool(Tool):\n",
    "    def __init__(self, vector_store):\n",
    "        super().__init__(\n",
    "            name=\"search_suttas\",\n",
    "            description=\"Search through Buddhist suttas to find relevant passages\",\n",
    "            parameters={\n",
    "                \"query\": {\n",
    "                    \"type\": \"string\",\n",
    "                    \"description\": \"The search query to find relevant suttas\",\n",
    "                }\n",
    "            },\n",
    "        )\n",
    "        self.vector_store = vector_store\n",
    "\n",
    "    def run(self, query: str) -> str:\n",
    "        # Search for relevant documents\n",
    "        docs = self.vector_store.similarity_search(query, k=3)\n",
    "\n",
    "        # Format the results\n",
    "        results = []\n",
    "        for doc in docs:\n",
    "            results.append(\n",
    "                f\"Title: {doc.metadata['title']}\\nText: {doc.page_content}\\n\"\n",
    "            )\n",
    "\n",
    "        return \"\\n\".join(results)\n"
   ]
  },
  {
   "cell_type": "code",
   "execution_count": 67,
   "metadata": {},
   "outputs": [
    {
     "name": "stdout",
     "output_type": "stream",
     "text": [
      "\n",
      " The following scriptures may be helpful:\n",
      "\n",
      "\n",
      "===== Scripture: The Simile of the Cloth | source: https://www.dhammatalks.org/suttas/MN/MN7.html =====\n",
      "wouldn’t cleanse\n",
      "a dark deed.\n",
      "What can the Sundarikā do?\n",
      "What the Payāga? What the Bāhuka?\n",
      "A person of animosity,\n",
      "one who’s done wrong,\n",
      "cannot be cleansed there\n",
      "of evil deeds.\n",
      "But for one who is pure,\n",
      "it’s always the Phaggu festival;\n",
      "for one who is pure,\n",
      "always the uposatha.\n",
      "For one who is pure, clean in his deeds,\n",
      "his practices       always\n",
      "reach consummation.\n",
      "Bathe right here, brahman.\n",
      "Create safety for yourself\n",
      "with regard to all beings.\n",
      "If you\n",
      "don’t tell a lie,\n",
      "don’t harm living beings,\n",
      "\n",
      "===== Scripture: To Gaá¹aka MoggallÄna | source: https://www.dhammatalks.org/suttas/MN/MN107.html =====\n",
      "“What can I do about that, Master Gotama? I’m the one who shows the way.”\n",
      "“In the same way, brahman—when unbinding is there, and the path leading to unbinding is there, and I am there as the guide—when my disciples are thus exhorted & instructed by me, some attain unbinding, the absolute conclusion, and some don’t. What can I do about that, brahman? The Tathāgata is the one who shows the way.”\n",
      "\n",
      "===== Scripture: The BrahmÄ Invitation | source: https://www.dhammatalks.org/suttas/MN/MN49.html =====\n",
      "“When this was said, Baka Brahmā told me, ‘But, good sir, what is actually constant I call “constant.” What is actually permanent I call “permanent.” What is actually eternal I call “eternal.” What is actually total I call “total.” What is actually not subject to falling away I call “not subject to falling away.” Where one does not take birth, age, die, fall away, or reappear, I say, “For this does not take birth, does not age, does not die, does not fall away, does not reappear\n",
      "\n",
      "===== Scripture: At Devadaha | source: https://www.dhammatalks.org/suttas/MN/MN101.html =====\n",
      ". That being the case, what kind of conviction do you have for your teacher with regard to the past? What kind of liking? What kind of unbroken tradition? What kind of\n"
     ]
    }
   ],
   "source": [
    "print(scripture_search_tool.forward(\"I struggle with motivation to meditate. What can I do?\")[:2000])"
   ]
  },
  {
   "cell_type": "markdown",
   "metadata": {},
   "source": [
    "These aren't super useful in their current form. Let's use agents to try to improve the output."
   ]
  },
  {
   "cell_type": "code",
   "execution_count": null,
   "metadata": {},
   "outputs": [
    {
     "name": "stdout",
     "output_type": "stream",
     "text": [
      "9406\n"
     ]
    },
    {
     "data": {
      "text/html": [
       "<pre style=\"white-space:pre;overflow-x:auto;line-height:normal;font-family:Menlo,'DejaVu Sans Mono',consolas,'Courier New',monospace\"><span style=\"color: #d4b702; text-decoration-color: #d4b702\">╭──────────────────────────────────────────────────── </span><span style=\"color: #d4b702; text-decoration-color: #d4b702; font-weight: bold\">New run</span><span style=\"color: #d4b702; text-decoration-color: #d4b702\"> ────────────────────────────────────────────────────╮</span>\n",
       "<span style=\"color: #d4b702; text-decoration-color: #d4b702\">│</span>                                                                                                                 <span style=\"color: #d4b702; text-decoration-color: #d4b702\">│</span>\n",
       "<span style=\"color: #d4b702; text-decoration-color: #d4b702\">│</span> <span style=\"font-weight: bold\">I struggle with motivation to meditate. What can I do?</span>                                                          <span style=\"color: #d4b702; text-decoration-color: #d4b702\">│</span>\n",
       "<span style=\"color: #d4b702; text-decoration-color: #d4b702\">│</span>                                                                                                                 <span style=\"color: #d4b702; text-decoration-color: #d4b702\">│</span>\n",
       "<span style=\"color: #d4b702; text-decoration-color: #d4b702\">╰─ HfApiModel - https://pflgm2locj2t89co.us-east-1.aws.endpoints.huggingface.cloud ───────────────────────────────╯</span>\n",
       "</pre>\n"
      ],
      "text/plain": [
       "\u001b[38;2;212;183;2m╭─\u001b[0m\u001b[38;2;212;183;2m───────────────────────────────────────────────────\u001b[0m\u001b[38;2;212;183;2m \u001b[0m\u001b[1;38;2;212;183;2mNew run\u001b[0m\u001b[38;2;212;183;2m \u001b[0m\u001b[38;2;212;183;2m───────────────────────────────────────────────────\u001b[0m\u001b[38;2;212;183;2m─╮\u001b[0m\n",
       "\u001b[38;2;212;183;2m│\u001b[0m                                                                                                                 \u001b[38;2;212;183;2m│\u001b[0m\n",
       "\u001b[38;2;212;183;2m│\u001b[0m \u001b[1mI struggle with motivation to meditate. What can I do?\u001b[0m                                                          \u001b[38;2;212;183;2m│\u001b[0m\n",
       "\u001b[38;2;212;183;2m│\u001b[0m                                                                                                                 \u001b[38;2;212;183;2m│\u001b[0m\n",
       "\u001b[38;2;212;183;2m╰─\u001b[0m\u001b[38;2;212;183;2m HfApiModel - https://pflgm2locj2t89co.us-east-1.aws.endpoints.huggingface.cloud \u001b[0m\u001b[38;2;212;183;2m──────────────────────────────\u001b[0m\u001b[38;2;212;183;2m─╯\u001b[0m\n"
      ]
     },
     "metadata": {},
     "output_type": "display_data"
    },
    {
     "data": {
      "text/html": [
       "<pre style=\"white-space:pre;overflow-x:auto;line-height:normal;font-family:Menlo,'DejaVu Sans Mono',consolas,'Courier New',monospace\"><span style=\"color: #d4b702; text-decoration-color: #d4b702\">━━━━━━━━━━━━━━━━━━━━━━━━━━━━━━━━━━━━━━━━━━━━━━━━━━━━━ </span><span style=\"font-weight: bold\">Step </span><span style=\"color: #008080; text-decoration-color: #008080; font-weight: bold\">1</span><span style=\"color: #d4b702; text-decoration-color: #d4b702\"> ━━━━━━━━━━━━━━━━━━━━━━━━━━━━━━━━━━━━━━━━━━━━━━━━━━━━━━</span>\n",
       "</pre>\n"
      ],
      "text/plain": [
       "\u001b[38;2;212;183;2m━━━━━━━━━━━━━━━━━━━━━━━━━━━━━━━━━━━━━━━━━━━━━━━━━━━━━ \u001b[0m\u001b[1mStep \u001b[0m\u001b[1;36m1\u001b[0m\u001b[38;2;212;183;2m ━━━━━━━━━━━━━━━━━━━━━━━━━━━━━━━━━━━━━━━━━━━━━━━━━━━━━━\u001b[0m\n"
      ]
     },
     "metadata": {},
     "output_type": "display_data"
    },
    {
     "data": {
      "text/html": [
       "<pre style=\"white-space:pre;overflow-x:auto;line-height:normal;font-family:Menlo,'DejaVu Sans Mono',consolas,'Courier New',monospace\"> ─ <span style=\"font-weight: bold\">Executing parsed code:</span> ──────────────────────────────────────────────────────────────────────────────────────── \n",
       "  <span style=\"color: #f8f8f2; text-decoration-color: #f8f8f2; background-color: #272822\">motivation_scripture </span><span style=\"color: #ff4689; text-decoration-color: #ff4689; background-color: #272822\">=</span><span style=\"color: #f8f8f2; text-decoration-color: #f8f8f2; background-color: #272822\"> scripture_search_tool(query</span><span style=\"color: #ff4689; text-decoration-color: #ff4689; background-color: #272822\">=</span><span style=\"color: #e6db74; text-decoration-color: #e6db74; background-color: #272822\">\"motivation to meditate\"</span><span style=\"color: #f8f8f2; text-decoration-color: #f8f8f2; background-color: #272822\">)</span><span style=\"background-color: #272822\">                                   </span>  \n",
       "  <span style=\"color: #f8f8f2; text-decoration-color: #f8f8f2; background-color: #272822\">print(motivation_scripture)</span><span style=\"background-color: #272822\">                                                                                    </span>  \n",
       " ───────────────────────────────────────────────────────────────────────────────────────────────────────────────── \n",
       "</pre>\n"
      ],
      "text/plain": [
       " ─ \u001b[1mExecuting parsed code:\u001b[0m ──────────────────────────────────────────────────────────────────────────────────────── \n",
       "  \u001b[38;2;248;248;242;48;2;39;40;34mmotivation_scripture\u001b[0m\u001b[38;2;248;248;242;48;2;39;40;34m \u001b[0m\u001b[38;2;255;70;137;48;2;39;40;34m=\u001b[0m\u001b[38;2;248;248;242;48;2;39;40;34m \u001b[0m\u001b[38;2;248;248;242;48;2;39;40;34mscripture_search_tool\u001b[0m\u001b[38;2;248;248;242;48;2;39;40;34m(\u001b[0m\u001b[38;2;248;248;242;48;2;39;40;34mquery\u001b[0m\u001b[38;2;255;70;137;48;2;39;40;34m=\u001b[0m\u001b[38;2;230;219;116;48;2;39;40;34m\"\u001b[0m\u001b[38;2;230;219;116;48;2;39;40;34mmotivation to meditate\u001b[0m\u001b[38;2;230;219;116;48;2;39;40;34m\"\u001b[0m\u001b[38;2;248;248;242;48;2;39;40;34m)\u001b[0m\u001b[48;2;39;40;34m                                   \u001b[0m  \n",
       "  \u001b[38;2;248;248;242;48;2;39;40;34mprint\u001b[0m\u001b[38;2;248;248;242;48;2;39;40;34m(\u001b[0m\u001b[38;2;248;248;242;48;2;39;40;34mmotivation_scripture\u001b[0m\u001b[38;2;248;248;242;48;2;39;40;34m)\u001b[0m\u001b[48;2;39;40;34m                                                                                    \u001b[0m  \n",
       " ───────────────────────────────────────────────────────────────────────────────────────────────────────────────── \n"
      ]
     },
     "metadata": {},
     "output_type": "display_data"
    },
    {
     "data": {
      "text/html": [
       "<pre style=\"white-space:pre;overflow-x:auto;line-height:normal;font-family:Menlo,'DejaVu Sans Mono',consolas,'Courier New',monospace\"><span style=\"font-weight: bold\">Execution logs:</span>\n",
       "\n",
       "Retrieved scripture texts:\n",
       "\n",
       "\n",
       "===== Scripture 0 =====\n",
       "Although at present we rarely think in the same terms as the SÄá¹khya philosophers, there has long beenâand still\n",
       "isâa common tendency to create a âBuddhistâ metaphysics in which the experience of emptiness, the Unconditioned,\n",
       "the Dharma-body, Buddha-nature, rigpa, etc., is said to function as the ground of being from which the âAllââthe\n",
       "entirety of our sensory &amp; mental experienceâis said to spring and to which we return when we meditate\n",
       "\n",
       "===== Scripture 1 =====\n",
       "Notes\n",
       "1. Given the widespread misperception that arahantship is a selfish goal, itâs important to take note of this \n",
       "statementâthat part of the motivation to become an arahant is how it will benefit other people.\n",
       "2. Reading, Devo ca kÄlena kÄlaá¹ sammÄdhÄraá¹ anuppaveccheyya, with the Thai edition.\n",
       "3. The following passages are all based on word play in the Pali.\n",
       "See also: DNÂ 2; MNÂ 29â30\n",
       "\n",
       "===== Scripture 2 =====\n",
       "Notes\n",
       "1. Given the widespread misperception that arahantship is a selfish goal, itâs important to take note of this \n",
       "statementâthat part of the motivation to become an arahant is how it will benefit other people.\n",
       "2. The first ten stains of a contemplative are identical with the first ten of the sixteen defilements listed in MN\n",
       "7.\n",
       "3. Reading samaá¹a-kasÄvÄnaá¹ with the Thai edition. Other editions read samaá¹a-kasaá¹­Änaá¹: dregs of a \n",
       "contemplative.\n",
       "\n",
       "===== Scripture 3 =====\n",
       ". It didnât lead to disenchantment, to dispassion, to cessation, to stilling, to direct knowledge to \n",
       "self-awakening, to Unbinding. But my attainment of happiness &amp; joy on hearing the Blessed Oneâs Dhamma is in the \n",
       "sphere of no violence, the sphere of no weapons. It leads to disenchantment, to dispassion, to cessation, to \n",
       "stilling, to direct knowledge to self-awakening, to Unbinding.â\n",
       "\n",
       "===== Scripture 4 =====\n",
       ". And why have I taught and declared these teachings to be categorical? Because they are conducive to the goal, \n",
       "conducive to the Dhamma, and basic to the holy life. They lead to disenchantment, to dispassion, to cessation, to \n",
       "calm, to direct knowledge, to self-awakening, to unbinding. Thatâs why I have taught and declared them to be \n",
       "categorical.\n",
       "\n",
       "===== Scripture 5 =====\n",
       "âWith regard to those contemplatives &amp; brahmans who are of the view, of the opinion that âA part is pleasing to me;\n",
       "a part is not pleasing to meâ: Whatever is pleasing to them, their view is close to being impassioned, close to \n",
       "bondage, close to delighting, close to holding, close to clinging. Whatever is not pleasing to them, their view is \n",
       "close to not being impassioned, close to non-bondage, close to not-delighting, close to not-holding, close to \n",
       "not-clinging.\n",
       "\n",
       "===== Scripture 6 =====\n",
       "âNo.â¦â\n",
       "âBut what is to be abandoned with regard to pleasant feeling? What is to be abandoned with regard to painful \n",
       "feeling? What is to be abandoned with regard to neither-pleasant-nor-painful feeling?â\n",
       "âPassion-obsession is to be abandoned with regard to pleasant feeling. Resistance-obsession is to be abandoned with\n",
       "regard to painful feeling. Ignorance-obsession is to be abandoned with regard to neither-pleasant-nor-painful \n",
       "feeling.â\n",
       "\n",
       "===== Scripture 7 =====\n",
       ". And why have I taught and declared these teachings to be not categorical? Because they are not conducive to the \n",
       "goal, are not conducive to the Dhamma, are not basic to the holy life. They donât lead to disenchantment, to \n",
       "dispassion, to cessation, to calm, to direct knowledge, to self-awakening, to unbinding. Thatâs why I have taught\n",
       "and declared them to be not categorical.\n",
       "\n",
       "===== Scripture 8 =====\n",
       "âBecause they are not conducive to the goal, are not conducive to the Dhamma, are not basic to the holy life. They\n",
       "donât lead to disenchantment, to dispassion, to cessation, to stilling, to direct knowledge, to self-awakening, to\n",
       "unbinding. Thatâs why I havenât expounded them.â\n",
       "âAnd what has the Blessed One expounded?â\n",
       "\n",
       "===== Scripture 9 =====\n",
       "âBecause they are conducive to the goal, conducive to the Dhamma, and basic to the holy life. They lead to \n",
       "disenchantment, to dispassion, to cessation, to stilling, to direct knowledge, to self-awakening, to unbinding. \n",
       "Thatâs why I have expounded them.â\n",
       "âSo it is, Blessed One. So it is, O One Well-Gone. Well now, itâs time for the Blessed One to do as he sees fit.â\n",
       "Then the Blessed One got up from his seat and left.\n",
       "\n",
       "Out: None\n",
       "</pre>\n"
      ],
      "text/plain": [
       "\u001b[1mExecution logs:\u001b[0m\n",
       "\n",
       "Retrieved scripture texts:\n",
       "\n",
       "\n",
       "===== Scripture 0 =====\n",
       "Although at present we rarely think in the same terms as the SÄá¹khya philosophers, there has long beenâand still\n",
       "isâa common tendency to create a âBuddhistâ metaphysics in which the experience of emptiness, the Unconditioned,\n",
       "the Dharma-body, Buddha-nature, rigpa, etc., is said to function as the ground of being from which the âAllââthe\n",
       "entirety of our sensory & mental experienceâis said to spring and to which we return when we meditate\n",
       "\n",
       "===== Scripture 1 =====\n",
       "Notes\n",
       "1. Given the widespread misperception that arahantship is a selfish goal, itâs important to take note of this \n",
       "statementâthat part of the motivation to become an arahant is how it will benefit other people.\n",
       "2. Reading, Devo ca kÄlena kÄlaá¹ sammÄdhÄraá¹ anuppaveccheyya, with the Thai edition.\n",
       "3. The following passages are all based on word play in the Pali.\n",
       "See also: DNÂ 2; MNÂ 29â30\n",
       "\n",
       "===== Scripture 2 =====\n",
       "Notes\n",
       "1. Given the widespread misperception that arahantship is a selfish goal, itâs important to take note of this \n",
       "statementâthat part of the motivation to become an arahant is how it will benefit other people.\n",
       "2. The first ten stains of a contemplative are identical with the first ten of the sixteen defilements listed in MN\n",
       "7.\n",
       "3. Reading samaá¹a-kasÄvÄnaá¹ with the Thai edition. Other editions read samaá¹a-kasaá¹­Änaá¹: dregs of a \n",
       "contemplative.\n",
       "\n",
       "===== Scripture 3 =====\n",
       ". It didnât lead to disenchantment, to dispassion, to cessation, to stilling, to direct knowledge to \n",
       "self-awakening, to Unbinding. But my attainment of happiness & joy on hearing the Blessed Oneâs Dhamma is in the \n",
       "sphere of no violence, the sphere of no weapons. It leads to disenchantment, to dispassion, to cessation, to \n",
       "stilling, to direct knowledge to self-awakening, to Unbinding.â\n",
       "\n",
       "===== Scripture 4 =====\n",
       ". And why have I taught and declared these teachings to be categorical? Because they are conducive to the goal, \n",
       "conducive to the Dhamma, and basic to the holy life. They lead to disenchantment, to dispassion, to cessation, to \n",
       "calm, to direct knowledge, to self-awakening, to unbinding. Thatâs why I have taught and declared them to be \n",
       "categorical.\n",
       "\n",
       "===== Scripture 5 =====\n",
       "âWith regard to those contemplatives & brahmans who are of the view, of the opinion that âA part is pleasing to me;\n",
       "a part is not pleasing to meâ: Whatever is pleasing to them, their view is close to being impassioned, close to \n",
       "bondage, close to delighting, close to holding, close to clinging. Whatever is not pleasing to them, their view is \n",
       "close to not being impassioned, close to non-bondage, close to not-delighting, close to not-holding, close to \n",
       "not-clinging.\n",
       "\n",
       "===== Scripture 6 =====\n",
       "âNo.â¦â\n",
       "âBut what is to be abandoned with regard to pleasant feeling? What is to be abandoned with regard to painful \n",
       "feeling? What is to be abandoned with regard to neither-pleasant-nor-painful feeling?â\n",
       "âPassion-obsession is to be abandoned with regard to pleasant feeling. Resistance-obsession is to be abandoned with\n",
       "regard to painful feeling. Ignorance-obsession is to be abandoned with regard to neither-pleasant-nor-painful \n",
       "feeling.â\n",
       "\n",
       "===== Scripture 7 =====\n",
       ". And why have I taught and declared these teachings to be not categorical? Because they are not conducive to the \n",
       "goal, are not conducive to the Dhamma, are not basic to the holy life. They donât lead to disenchantment, to \n",
       "dispassion, to cessation, to calm, to direct knowledge, to self-awakening, to unbinding. Thatâs why I have taught\n",
       "and declared them to be not categorical.\n",
       "\n",
       "===== Scripture 8 =====\n",
       "âBecause they are not conducive to the goal, are not conducive to the Dhamma, are not basic to the holy life. They\n",
       "donât lead to disenchantment, to dispassion, to cessation, to stilling, to direct knowledge, to self-awakening, to\n",
       "unbinding. Thatâs why I havenât expounded them.â\n",
       "âAnd what has the Blessed One expounded?â\n",
       "\n",
       "===== Scripture 9 =====\n",
       "âBecause they are conducive to the goal, conducive to the Dhamma, and basic to the holy life. They lead to \n",
       "disenchantment, to dispassion, to cessation, to stilling, to direct knowledge, to self-awakening, to unbinding. \n",
       "Thatâs why I have expounded them.â\n",
       "âSo it is, Blessed One. So it is, O One Well-Gone. Well now, itâs time for the Blessed One to do as he sees fit.â\n",
       "Then the Blessed One got up from his seat and left.\n",
       "\n",
       "Out: None\n"
      ]
     },
     "metadata": {},
     "output_type": "display_data"
    },
    {
     "data": {
      "text/html": [
       "<pre style=\"white-space:pre;overflow-x:auto;line-height:normal;font-family:Menlo,'DejaVu Sans Mono',consolas,'Courier New',monospace\"><span style=\"color: #7f7f7f; text-decoration-color: #7f7f7f\">[Step 1: Duration 2.62 seconds| Input tokens: 2,079 | Output tokens: 73]</span>\n",
       "</pre>\n"
      ],
      "text/plain": [
       "\u001b[2m[Step 1: Duration 2.62 seconds| Input tokens: 2,079 | Output tokens: 73]\u001b[0m\n"
      ]
     },
     "metadata": {},
     "output_type": "display_data"
    },
    {
     "data": {
      "text/html": [
       "<pre style=\"white-space:pre;overflow-x:auto;line-height:normal;font-family:Menlo,'DejaVu Sans Mono',consolas,'Courier New',monospace\"><span style=\"color: #d4b702; text-decoration-color: #d4b702\">━━━━━━━━━━━━━━━━━━━━━━━━━━━━━━━━━━━━━━━━━━━━━━━━━━━━━ </span><span style=\"font-weight: bold\">Step </span><span style=\"color: #008080; text-decoration-color: #008080; font-weight: bold\">2</span><span style=\"color: #d4b702; text-decoration-color: #d4b702\"> ━━━━━━━━━━━━━━━━━━━━━━━━━━━━━━━━━━━━━━━━━━━━━━━━━━━━━━</span>\n",
       "</pre>\n"
      ],
      "text/plain": [
       "\u001b[38;2;212;183;2m━━━━━━━━━━━━━━━━━━━━━━━━━━━━━━━━━━━━━━━━━━━━━━━━━━━━━ \u001b[0m\u001b[1mStep \u001b[0m\u001b[1;36m2\u001b[0m\u001b[38;2;212;183;2m ━━━━━━━━━━━━━━━━━━━━━━━━━━━━━━━━━━━━━━━━━━━━━━━━━━━━━━\u001b[0m\n"
      ]
     },
     "metadata": {},
     "output_type": "display_data"
    },
    {
     "data": {
      "text/html": [
       "<pre style=\"white-space:pre;overflow-x:auto;line-height:normal;font-family:Menlo,'DejaVu Sans Mono',consolas,'Courier New',monospace\"> ─ <span style=\"font-weight: bold\">Executing parsed code:</span> ──────────────────────────────────────────────────────────────────────────────────────── \n",
       "  <span style=\"color: #f8f8f2; text-decoration-color: #f8f8f2; background-color: #272822\">motivation_scripture </span><span style=\"color: #ff4689; text-decoration-color: #ff4689; background-color: #272822\">=</span><span style=\"color: #f8f8f2; text-decoration-color: #f8f8f2; background-color: #272822\"> scripture_search_tool(query</span><span style=\"color: #ff4689; text-decoration-color: #ff4689; background-color: #272822\">=</span><span style=\"color: #e6db74; text-decoration-color: #e6db74; background-color: #272822\">\"motivation to start meditating\"</span><span style=\"color: #f8f8f2; text-decoration-color: #f8f8f2; background-color: #272822\">)</span><span style=\"background-color: #272822\">                           </span>  \n",
       "  <span style=\"color: #f8f8f2; text-decoration-color: #f8f8f2; background-color: #272822\">print(motivation_scripture)</span><span style=\"background-color: #272822\">                                                                                    </span>  \n",
       " ───────────────────────────────────────────────────────────────────────────────────────────────────────────────── \n",
       "</pre>\n"
      ],
      "text/plain": [
       " ─ \u001b[1mExecuting parsed code:\u001b[0m ──────────────────────────────────────────────────────────────────────────────────────── \n",
       "  \u001b[38;2;248;248;242;48;2;39;40;34mmotivation_scripture\u001b[0m\u001b[38;2;248;248;242;48;2;39;40;34m \u001b[0m\u001b[38;2;255;70;137;48;2;39;40;34m=\u001b[0m\u001b[38;2;248;248;242;48;2;39;40;34m \u001b[0m\u001b[38;2;248;248;242;48;2;39;40;34mscripture_search_tool\u001b[0m\u001b[38;2;248;248;242;48;2;39;40;34m(\u001b[0m\u001b[38;2;248;248;242;48;2;39;40;34mquery\u001b[0m\u001b[38;2;255;70;137;48;2;39;40;34m=\u001b[0m\u001b[38;2;230;219;116;48;2;39;40;34m\"\u001b[0m\u001b[38;2;230;219;116;48;2;39;40;34mmotivation to start meditating\u001b[0m\u001b[38;2;230;219;116;48;2;39;40;34m\"\u001b[0m\u001b[38;2;248;248;242;48;2;39;40;34m)\u001b[0m\u001b[48;2;39;40;34m                           \u001b[0m  \n",
       "  \u001b[38;2;248;248;242;48;2;39;40;34mprint\u001b[0m\u001b[38;2;248;248;242;48;2;39;40;34m(\u001b[0m\u001b[38;2;248;248;242;48;2;39;40;34mmotivation_scripture\u001b[0m\u001b[38;2;248;248;242;48;2;39;40;34m)\u001b[0m\u001b[48;2;39;40;34m                                                                                    \u001b[0m  \n",
       " ───────────────────────────────────────────────────────────────────────────────────────────────────────────────── \n"
      ]
     },
     "metadata": {},
     "output_type": "display_data"
    },
    {
     "data": {
      "text/html": [
       "<pre style=\"white-space:pre;overflow-x:auto;line-height:normal;font-family:Menlo,'DejaVu Sans Mono',consolas,'Courier New',monospace\"><span style=\"font-weight: bold\">Execution logs:</span>\n",
       "\n",
       "Retrieved scripture texts:\n",
       "\n",
       "\n",
       "===== Scripture 0 =====\n",
       "Notes\n",
       "1. Given the widespread misperception that arahantship is a selfish goal, itâs important to take note of this \n",
       "statementâthat part of the motivation to become an arahant is how it will benefit other people.\n",
       "2. Reading, Devo ca kÄlena kÄlaá¹ sammÄdhÄraá¹ anuppaveccheyya, with the Thai edition.\n",
       "3. The following passages are all based on word play in the Pali.\n",
       "See also: DNÂ 2; MNÂ 29â30\n",
       "\n",
       "===== Scripture 1 =====\n",
       "3. The image here is apparently that of trying to start a fire with the friction of a fire stick. Ariá¹­á¹­ha hasnât\n",
       "even been able to create any warmth, much less the spark of insight that would create light.\n",
       "4. According to the Commentary, âindulge in sensual pleasuresâ here means indulging in sexual intercourse; the \n",
       "Sub-commentary adds that other acts expressing sexual desireâsuch as hugging and pettingâshould be included under\n",
       "this phrase as well.\n",
       "\n",
       "===== Scripture 2 =====\n",
       "Notes\n",
       "1. Given the widespread misperception that arahantship is a selfish goal, itâs important to take note of this \n",
       "statementâthat part of the motivation to become an arahant is how it will benefit other people.\n",
       "2. The first ten stains of a contemplative are identical with the first ten of the sixteen defilements listed in MN\n",
       "7.\n",
       "3. Reading samaá¹a-kasÄvÄnaá¹ with the Thai edition. Other editions read samaá¹a-kasaá¹­Änaá¹: dregs of a \n",
       "contemplative.\n",
       "\n",
       "===== Scripture 3 =====\n",
       "âNow there comes a time, friends, when the external wind property is provoked and blows away village, town, city,\n",
       "district, &amp; country. There comes a time when, in the last month of the hot season, people try to start a breeze \n",
       "with a fan or bellows, and even the grass at the fringe of a thatch roof doesnât stir.\n",
       "\n",
       "===== Scripture 4 =====\n",
       "2. ANÂ 7:46 (quoted in The Mind Like Fire Unbound) cites a wing bone and tendon parings as examples of items that \n",
       "will not catch fire. Perhaps the passage was meant as a comical parody of someone who, having seen another person \n",
       "start fire with a fire stick, tried to imitate that person without understanding the basic principle involved. If \n",
       "you used a fire stick and wood shavings, you would get fire\n",
       "\n",
       "===== Scripture 5 =====\n",
       ". It didnât lead to disenchantment, to dispassion, to cessation, to stilling, to direct knowledge to \n",
       "self-awakening, to Unbinding. But my attainment of happiness &amp; joy on hearing the Blessed Oneâs Dhamma is in the \n",
       "sphere of no violence, the sphere of no weapons. It leads to disenchantment, to dispassion, to cessation, to \n",
       "stilling, to direct knowledge to self-awakening, to Unbinding.â\n",
       "\n",
       "===== Scripture 6 =====\n",
       ". And why have I taught and declared these teachings to be categorical? Because they are conducive to the goal, \n",
       "conducive to the Dhamma, and basic to the holy life. They lead to disenchantment, to dispassion, to cessation, to \n",
       "calm, to direct knowledge, to self-awakening, to unbinding. Thatâs why I have taught and declared them to be \n",
       "categorical.\n",
       "\n",
       "===== Scripture 7 =====\n",
       "âWith regard to those contemplatives &amp; brahmans who are of the view, of the opinion that âA part is pleasing to me;\n",
       "a part is not pleasing to meâ: Whatever is pleasing to them, their view is close to being impassioned, close to \n",
       "bondage, close to delighting, close to holding, close to clinging. Whatever is not pleasing to them, their view is \n",
       "close to not being impassioned, close to non-bondage, close to not-delighting, close to not-holding, close to \n",
       "not-clinging.\n",
       "\n",
       "===== Scripture 8 =====\n",
       "âNo.â¦â\n",
       "âBut what is to be abandoned with regard to pleasant feeling? What is to be abandoned with regard to painful \n",
       "feeling? What is to be abandoned with regard to neither-pleasant-nor-painful feeling?â\n",
       "âPassion-obsession is to be abandoned with regard to pleasant feeling. Resistance-obsession is to be abandoned with\n",
       "regard to painful feeling. Ignorance-obsession is to be abandoned with regard to neither-pleasant-nor-painful \n",
       "feeling.â\n",
       "\n",
       "===== Scripture 9 =====\n",
       ". And why have I taught and declared these teachings to be not categorical? Because they are not conducive to the \n",
       "goal, are not conducive to the Dhamma, are not basic to the holy life. They donât lead to disenchantment, to \n",
       "dispassion, to cessation, to calm, to direct knowledge, to self-awakening, to unbinding. Thatâs why I have taught\n",
       "and declared them to be not categorical.\n",
       "\n",
       "Out: None\n",
       "</pre>\n"
      ],
      "text/plain": [
       "\u001b[1mExecution logs:\u001b[0m\n",
       "\n",
       "Retrieved scripture texts:\n",
       "\n",
       "\n",
       "===== Scripture 0 =====\n",
       "Notes\n",
       "1. Given the widespread misperception that arahantship is a selfish goal, itâs important to take note of this \n",
       "statementâthat part of the motivation to become an arahant is how it will benefit other people.\n",
       "2. Reading, Devo ca kÄlena kÄlaá¹ sammÄdhÄraá¹ anuppaveccheyya, with the Thai edition.\n",
       "3. The following passages are all based on word play in the Pali.\n",
       "See also: DNÂ 2; MNÂ 29â30\n",
       "\n",
       "===== Scripture 1 =====\n",
       "3. The image here is apparently that of trying to start a fire with the friction of a fire stick. Ariá¹­á¹­ha hasnât\n",
       "even been able to create any warmth, much less the spark of insight that would create light.\n",
       "4. According to the Commentary, âindulge in sensual pleasuresâ here means indulging in sexual intercourse; the \n",
       "Sub-commentary adds that other acts expressing sexual desireâsuch as hugging and pettingâshould be included under\n",
       "this phrase as well.\n",
       "\n",
       "===== Scripture 2 =====\n",
       "Notes\n",
       "1. Given the widespread misperception that arahantship is a selfish goal, itâs important to take note of this \n",
       "statementâthat part of the motivation to become an arahant is how it will benefit other people.\n",
       "2. The first ten stains of a contemplative are identical with the first ten of the sixteen defilements listed in MN\n",
       "7.\n",
       "3. Reading samaá¹a-kasÄvÄnaá¹ with the Thai edition. Other editions read samaá¹a-kasaá¹­Änaá¹: dregs of a \n",
       "contemplative.\n",
       "\n",
       "===== Scripture 3 =====\n",
       "âNow there comes a time, friends, when the external wind property is provoked and blows away village, town, city,\n",
       "district, & country. There comes a time when, in the last month of the hot season, people try to start a breeze \n",
       "with a fan or bellows, and even the grass at the fringe of a thatch roof doesnât stir.\n",
       "\n",
       "===== Scripture 4 =====\n",
       "2. ANÂ 7:46 (quoted in The Mind Like Fire Unbound) cites a wing bone and tendon parings as examples of items that \n",
       "will not catch fire. Perhaps the passage was meant as a comical parody of someone who, having seen another person \n",
       "start fire with a fire stick, tried to imitate that person without understanding the basic principle involved. If \n",
       "you used a fire stick and wood shavings, you would get fire\n",
       "\n",
       "===== Scripture 5 =====\n",
       ". It didnât lead to disenchantment, to dispassion, to cessation, to stilling, to direct knowledge to \n",
       "self-awakening, to Unbinding. But my attainment of happiness & joy on hearing the Blessed Oneâs Dhamma is in the \n",
       "sphere of no violence, the sphere of no weapons. It leads to disenchantment, to dispassion, to cessation, to \n",
       "stilling, to direct knowledge to self-awakening, to Unbinding.â\n",
       "\n",
       "===== Scripture 6 =====\n",
       ". And why have I taught and declared these teachings to be categorical? Because they are conducive to the goal, \n",
       "conducive to the Dhamma, and basic to the holy life. They lead to disenchantment, to dispassion, to cessation, to \n",
       "calm, to direct knowledge, to self-awakening, to unbinding. Thatâs why I have taught and declared them to be \n",
       "categorical.\n",
       "\n",
       "===== Scripture 7 =====\n",
       "âWith regard to those contemplatives & brahmans who are of the view, of the opinion that âA part is pleasing to me;\n",
       "a part is not pleasing to meâ: Whatever is pleasing to them, their view is close to being impassioned, close to \n",
       "bondage, close to delighting, close to holding, close to clinging. Whatever is not pleasing to them, their view is \n",
       "close to not being impassioned, close to non-bondage, close to not-delighting, close to not-holding, close to \n",
       "not-clinging.\n",
       "\n",
       "===== Scripture 8 =====\n",
       "âNo.â¦â\n",
       "âBut what is to be abandoned with regard to pleasant feeling? What is to be abandoned with regard to painful \n",
       "feeling? What is to be abandoned with regard to neither-pleasant-nor-painful feeling?â\n",
       "âPassion-obsession is to be abandoned with regard to pleasant feeling. Resistance-obsession is to be abandoned with\n",
       "regard to painful feeling. Ignorance-obsession is to be abandoned with regard to neither-pleasant-nor-painful \n",
       "feeling.â\n",
       "\n",
       "===== Scripture 9 =====\n",
       ". And why have I taught and declared these teachings to be not categorical? Because they are not conducive to the \n",
       "goal, are not conducive to the Dhamma, are not basic to the holy life. They donât lead to disenchantment, to \n",
       "dispassion, to cessation, to calm, to direct knowledge, to self-awakening, to unbinding. Thatâs why I have taught\n",
       "and declared them to be not categorical.\n",
       "\n",
       "Out: None\n"
      ]
     },
     "metadata": {},
     "output_type": "display_data"
    },
    {
     "data": {
      "text/html": [
       "<pre style=\"white-space:pre;overflow-x:auto;line-height:normal;font-family:Menlo,'DejaVu Sans Mono',consolas,'Courier New',monospace\"><span style=\"color: #7f7f7f; text-decoration-color: #7f7f7f\">[Step 2: Duration 2.55 seconds| Input tokens: 5,527 | Output tokens: 153]</span>\n",
       "</pre>\n"
      ],
      "text/plain": [
       "\u001b[2m[Step 2: Duration 2.55 seconds| Input tokens: 5,527 | Output tokens: 153]\u001b[0m\n"
      ]
     },
     "metadata": {},
     "output_type": "display_data"
    },
    {
     "data": {
      "text/html": [
       "<pre style=\"white-space:pre;overflow-x:auto;line-height:normal;font-family:Menlo,'DejaVu Sans Mono',consolas,'Courier New',monospace\"><span style=\"color: #d4b702; text-decoration-color: #d4b702\">━━━━━━━━━━━━━━━━━━━━━━━━━━━━━━━━━━━━━━━━━━━━━━━━━━━━━ </span><span style=\"font-weight: bold\">Step </span><span style=\"color: #008080; text-decoration-color: #008080; font-weight: bold\">3</span><span style=\"color: #d4b702; text-decoration-color: #d4b702\"> ━━━━━━━━━━━━━━━━━━━━━━━━━━━━━━━━━━━━━━━━━━━━━━━━━━━━━━</span>\n",
       "</pre>\n"
      ],
      "text/plain": [
       "\u001b[38;2;212;183;2m━━━━━━━━━━━━━━━━━━━━━━━━━━━━━━━━━━━━━━━━━━━━━━━━━━━━━ \u001b[0m\u001b[1mStep \u001b[0m\u001b[1;36m3\u001b[0m\u001b[38;2;212;183;2m ━━━━━━━━━━━━━━━━━━━━━━━━━━━━━━━━━━━━━━━━━━━━━━━━━━━━━━\u001b[0m\n"
      ]
     },
     "metadata": {},
     "output_type": "display_data"
    },
    {
     "data": {
      "text/html": [
       "<pre style=\"white-space:pre;overflow-x:auto;line-height:normal;font-family:Menlo,'DejaVu Sans Mono',consolas,'Courier New',monospace\"> ─ <span style=\"font-weight: bold\">Executing parsed code:</span> ──────────────────────────────────────────────────────────────────────────────────────── \n",
       "  <span style=\"color: #f8f8f2; text-decoration-color: #f8f8f2; background-color: #272822\">motivation_scripture </span><span style=\"color: #ff4689; text-decoration-color: #ff4689; background-color: #272822\">=</span><span style=\"color: #f8f8f2; text-decoration-color: #f8f8f2; background-color: #272822\"> scripture_search_tool(query</span><span style=\"color: #ff4689; text-decoration-color: #ff4689; background-color: #272822\">=</span><span style=\"color: #e6db74; text-decoration-color: #e6db74; background-color: #272822\">\"motivation and encouragement for beginning meditators\"</span><span style=\"color: #f8f8f2; text-decoration-color: #f8f8f2; background-color: #272822\">)</span><span style=\"background-color: #272822\">    </span>  \n",
       "  <span style=\"color: #f8f8f2; text-decoration-color: #f8f8f2; background-color: #272822\">print(motivation_scripture)</span><span style=\"background-color: #272822\">                                                                                    </span>  \n",
       " ───────────────────────────────────────────────────────────────────────────────────────────────────────────────── \n",
       "</pre>\n"
      ],
      "text/plain": [
       " ─ \u001b[1mExecuting parsed code:\u001b[0m ──────────────────────────────────────────────────────────────────────────────────────── \n",
       "  \u001b[38;2;248;248;242;48;2;39;40;34mmotivation_scripture\u001b[0m\u001b[38;2;248;248;242;48;2;39;40;34m \u001b[0m\u001b[38;2;255;70;137;48;2;39;40;34m=\u001b[0m\u001b[38;2;248;248;242;48;2;39;40;34m \u001b[0m\u001b[38;2;248;248;242;48;2;39;40;34mscripture_search_tool\u001b[0m\u001b[38;2;248;248;242;48;2;39;40;34m(\u001b[0m\u001b[38;2;248;248;242;48;2;39;40;34mquery\u001b[0m\u001b[38;2;255;70;137;48;2;39;40;34m=\u001b[0m\u001b[38;2;230;219;116;48;2;39;40;34m\"\u001b[0m\u001b[38;2;230;219;116;48;2;39;40;34mmotivation and encouragement for beginning meditators\u001b[0m\u001b[38;2;230;219;116;48;2;39;40;34m\"\u001b[0m\u001b[38;2;248;248;242;48;2;39;40;34m)\u001b[0m\u001b[48;2;39;40;34m    \u001b[0m  \n",
       "  \u001b[38;2;248;248;242;48;2;39;40;34mprint\u001b[0m\u001b[38;2;248;248;242;48;2;39;40;34m(\u001b[0m\u001b[38;2;248;248;242;48;2;39;40;34mmotivation_scripture\u001b[0m\u001b[38;2;248;248;242;48;2;39;40;34m)\u001b[0m\u001b[48;2;39;40;34m                                                                                    \u001b[0m  \n",
       " ───────────────────────────────────────────────────────────────────────────────────────────────────────────────── \n"
      ]
     },
     "metadata": {},
     "output_type": "display_data"
    },
    {
     "data": {
      "text/html": [
       "<pre style=\"white-space:pre;overflow-x:auto;line-height:normal;font-family:Menlo,'DejaVu Sans Mono',consolas,'Courier New',monospace\"><span style=\"font-weight: bold\">Execution logs:</span>\n",
       "\n",
       "Retrieved scripture texts:\n",
       "\n",
       "\n",
       "===== Scripture 0 =====\n",
       ". And as for beginning points in general, SNÂ 15:3 states that transmigration comes from an inconceivable beginning\n",
       "point; ANÂ 10:61 says that a beginning point for ignorance, such that one might say, âBefore this, ignorance did \n",
       "not exist; then it came into play,â cannot be discerned.\n",
       "\n",
       "===== Scripture 1 =====\n",
       "Itâs easy to imagine that the monks listening to this discourse might have been brought up short by this last \n",
       "example. After hearing of the failings of contemplatives outside the Buddhaâs teachings, they are presented with a\n",
       "failing to which they themselves could easily fall prey.\n",
       "This discourse thus contains a useful warning for Buddhist meditators today.\n",
       "*Â *Â *\n",
       "\n",
       "===== Scripture 2 =====\n",
       "4. Â DNÂ 1 tells how the Great BrahmÄ appears spontaneously at the beginning of an eon, and how he and his retinue\n",
       "become deluded about his creative powers:\n",
       "\n",
       "===== Scripture 3 =====\n",
       "That is what the Blessed One said. Gratified, the monks delighted in the Blessed Oneâs words.\n",
       "Notes\n",
       "1. See UdÂ 2:2 and ANÂ 10:69. Noble silence = the levels of jhÄna beginning with the second.\n",
       "\n",
       "===== Scripture 4 =====\n",
       ". There are passages in the Canon (such as ANÂ 9:36) that describe meditators experiencing nibbÄna as a dhamma, but\n",
       "these passages seem to indicate that this description applies up through the level of non-returning. Other \n",
       "passages, however, describe nibbÄna as the ending of all dhammas. For instance, SnÂ 5:6 quotes the Buddha as \n",
       "calling the attainment of the goal the transcending of all dhammas\n",
       "\n",
       "===== Scripture 5 =====\n",
       "Notes\n",
       "1. Given the widespread misperception that arahantship is a selfish goal, itâs important to take note of this \n",
       "statementâthat part of the motivation to become an arahant is how it will benefit other people.\n",
       "2. Reading, Devo ca kÄlena kÄlaá¹ sammÄdhÄraá¹ anuppaveccheyya, with the Thai edition.\n",
       "3. The following passages are all based on word play in the Pali.\n",
       "See also: DNÂ 2; MNÂ 29â30\n",
       "\n",
       "===== Scripture 6 =====\n",
       "Notes\n",
       "1. Given the widespread misperception that arahantship is a selfish goal, itâs important to take note of this \n",
       "statementâthat part of the motivation to become an arahant is how it will benefit other people.\n",
       "2. The first ten stains of a contemplative are identical with the first ten of the sixteen defilements listed in MN\n",
       "7.\n",
       "3. Reading samaá¹a-kasÄvÄnaá¹ with the Thai edition. Other editions read samaá¹a-kasaá¹­Änaá¹: dregs of a \n",
       "contemplative.\n",
       "\n",
       "===== Scripture 7 =====\n",
       "17. The view-dependencies in the following list, or close variants, are discussed in DNÂ 1 and MNÂ 102. The first \n",
       "four are discussed in SNÂ 24. The discussions in both DNÂ 1 and MNÂ 102 are quite extended, giving different \n",
       "details for each view, although the refrain in DNÂ 1 is the same here as it is for the view-dependencies dealing \n",
       "with beginning points. A passage from SNÂ 24:37 gives an idea of how it and its companion suttas declare/explain \n",
       "the first four of these views:\n",
       "\n",
       "===== Scripture 8 =====\n",
       "For example, MNÂ 135 states that one must be generous in order to be born into a wealthy family. ANÂ 3:71 states \n",
       "that the rebirth into the six deva realms beginning with the Devas of the Four Great Kings is based on five \n",
       "qualities: conviction, virtue, learning, generosity, and discernment. ANÂ 7:49 correlates different motivations for\n",
       "giving with the attainment of different levels of rebirth among these realms after death\n",
       "\n",
       "===== Scripture 9 =====\n",
       ". We will keep pervading him with an awareness imbued with goodwill and, beginning with him, we will keep pervading\n",
       "the all-encompassing world with an awareness imbued with goodwillâabundant, enlarged, immeasurable, free from \n",
       "hostility, free from ill will.â Thatâs how you should train yourselves.\n",
       "\n",
       "Out: None\n",
       "</pre>\n"
      ],
      "text/plain": [
       "\u001b[1mExecution logs:\u001b[0m\n",
       "\n",
       "Retrieved scripture texts:\n",
       "\n",
       "\n",
       "===== Scripture 0 =====\n",
       ". And as for beginning points in general, SNÂ 15:3 states that transmigration comes from an inconceivable beginning\n",
       "point; ANÂ 10:61 says that a beginning point for ignorance, such that one might say, âBefore this, ignorance did \n",
       "not exist; then it came into play,â cannot be discerned.\n",
       "\n",
       "===== Scripture 1 =====\n",
       "Itâs easy to imagine that the monks listening to this discourse might have been brought up short by this last \n",
       "example. After hearing of the failings of contemplatives outside the Buddhaâs teachings, they are presented with a\n",
       "failing to which they themselves could easily fall prey.\n",
       "This discourse thus contains a useful warning for Buddhist meditators today.\n",
       "*Â *Â *\n",
       "\n",
       "===== Scripture 2 =====\n",
       "4. Â DNÂ 1 tells how the Great BrahmÄ appears spontaneously at the beginning of an eon, and how he and his retinue\n",
       "become deluded about his creative powers:\n",
       "\n",
       "===== Scripture 3 =====\n",
       "That is what the Blessed One said. Gratified, the monks delighted in the Blessed Oneâs words.\n",
       "Notes\n",
       "1. See UdÂ 2:2 and ANÂ 10:69. Noble silence = the levels of jhÄna beginning with the second.\n",
       "\n",
       "===== Scripture 4 =====\n",
       ". There are passages in the Canon (such as ANÂ 9:36) that describe meditators experiencing nibbÄna as a dhamma, but\n",
       "these passages seem to indicate that this description applies up through the level of non-returning. Other \n",
       "passages, however, describe nibbÄna as the ending of all dhammas. For instance, SnÂ 5:6 quotes the Buddha as \n",
       "calling the attainment of the goal the transcending of all dhammas\n",
       "\n",
       "===== Scripture 5 =====\n",
       "Notes\n",
       "1. Given the widespread misperception that arahantship is a selfish goal, itâs important to take note of this \n",
       "statementâthat part of the motivation to become an arahant is how it will benefit other people.\n",
       "2. Reading, Devo ca kÄlena kÄlaá¹ sammÄdhÄraá¹ anuppaveccheyya, with the Thai edition.\n",
       "3. The following passages are all based on word play in the Pali.\n",
       "See also: DNÂ 2; MNÂ 29â30\n",
       "\n",
       "===== Scripture 6 =====\n",
       "Notes\n",
       "1. Given the widespread misperception that arahantship is a selfish goal, itâs important to take note of this \n",
       "statementâthat part of the motivation to become an arahant is how it will benefit other people.\n",
       "2. The first ten stains of a contemplative are identical with the first ten of the sixteen defilements listed in MN\n",
       "7.\n",
       "3. Reading samaá¹a-kasÄvÄnaá¹ with the Thai edition. Other editions read samaá¹a-kasaá¹­Änaá¹: dregs of a \n",
       "contemplative.\n",
       "\n",
       "===== Scripture 7 =====\n",
       "17. The view-dependencies in the following list, or close variants, are discussed in DNÂ 1 and MNÂ 102. The first \n",
       "four are discussed in SNÂ 24. The discussions in both DNÂ 1 and MNÂ 102 are quite extended, giving different \n",
       "details for each view, although the refrain in DNÂ 1 is the same here as it is for the view-dependencies dealing \n",
       "with beginning points. A passage from SNÂ 24:37 gives an idea of how it and its companion suttas declare/explain \n",
       "the first four of these views:\n",
       "\n",
       "===== Scripture 8 =====\n",
       "For example, MNÂ 135 states that one must be generous in order to be born into a wealthy family. ANÂ 3:71 states \n",
       "that the rebirth into the six deva realms beginning with the Devas of the Four Great Kings is based on five \n",
       "qualities: conviction, virtue, learning, generosity, and discernment. ANÂ 7:49 correlates different motivations for\n",
       "giving with the attainment of different levels of rebirth among these realms after death\n",
       "\n",
       "===== Scripture 9 =====\n",
       ". We will keep pervading him with an awareness imbued with goodwill and, beginning with him, we will keep pervading\n",
       "the all-encompassing world with an awareness imbued with goodwillâabundant, enlarged, immeasurable, free from \n",
       "hostility, free from ill will.â Thatâs how you should train yourselves.\n",
       "\n",
       "Out: None\n"
      ]
     },
     "metadata": {},
     "output_type": "display_data"
    },
    {
     "data": {
      "text/html": [
       "<pre style=\"white-space:pre;overflow-x:auto;line-height:normal;font-family:Menlo,'DejaVu Sans Mono',consolas,'Courier New',monospace\"><span style=\"color: #7f7f7f; text-decoration-color: #7f7f7f\">[Step 3: Duration 2.27 seconds| Input tokens: 10,280 | Output tokens: 222]</span>\n",
       "</pre>\n"
      ],
      "text/plain": [
       "\u001b[2m[Step 3: Duration 2.27 seconds| Input tokens: 10,280 | Output tokens: 222]\u001b[0m\n"
      ]
     },
     "metadata": {},
     "output_type": "display_data"
    },
    {
     "data": {
      "text/html": [
       "<pre style=\"white-space:pre;overflow-x:auto;line-height:normal;font-family:Menlo,'DejaVu Sans Mono',consolas,'Courier New',monospace\"><span style=\"color: #d4b702; text-decoration-color: #d4b702\">━━━━━━━━━━━━━━━━━━━━━━━━━━━━━━━━━━━━━━━━━━━━━━━━━━━━━ </span><span style=\"font-weight: bold\">Step </span><span style=\"color: #008080; text-decoration-color: #008080; font-weight: bold\">4</span><span style=\"color: #d4b702; text-decoration-color: #d4b702\"> ━━━━━━━━━━━━━━━━━━━━━━━━━━━━━━━━━━━━━━━━━━━━━━━━━━━━━━</span>\n",
       "</pre>\n"
      ],
      "text/plain": [
       "\u001b[38;2;212;183;2m━━━━━━━━━━━━━━━━━━━━━━━━━━━━━━━━━━━━━━━━━━━━━━━━━━━━━ \u001b[0m\u001b[1mStep \u001b[0m\u001b[1;36m4\u001b[0m\u001b[38;2;212;183;2m ━━━━━━━━━━━━━━━━━━━━━━━━━━━━━━━━━━━━━━━━━━━━━━━━━━━━━━\u001b[0m\n"
      ]
     },
     "metadata": {},
     "output_type": "display_data"
    },
    {
     "data": {
      "text/html": [
       "<pre style=\"white-space:pre;overflow-x:auto;line-height:normal;font-family:Menlo,'DejaVu Sans Mono',consolas,'Courier New',monospace\"> ─ <span style=\"font-weight: bold\">Executing parsed code:</span> ──────────────────────────────────────────────────────────────────────────────────────── \n",
       "  <span style=\"color: #f8f8f2; text-decoration-color: #f8f8f2; background-color: #272822\">motivation_tips </span><span style=\"color: #ff4689; text-decoration-color: #ff4689; background-color: #272822\">=</span><span style=\"color: #f8f8f2; text-decoration-color: #f8f8f2; background-color: #272822\"> [</span><span style=\"background-color: #272822\">                                                                                            </span>  \n",
       "  <span style=\"color: #f8f8f2; text-decoration-color: #f8f8f2; background-color: #272822\">    </span><span style=\"color: #e6db74; text-decoration-color: #e6db74; background-color: #272822\">\"Start with short sessions and gradually increase the duration.\"</span><span style=\"color: #f8f8f2; text-decoration-color: #f8f8f2; background-color: #272822\">,</span><span style=\"background-color: #272822\">                                          </span>  \n",
       "  <span style=\"color: #f8f8f2; text-decoration-color: #f8f8f2; background-color: #272822\">    </span><span style=\"color: #e6db74; text-decoration-color: #e6db74; background-color: #272822\">\"Find a comfortable and quiet place to meditate.\"</span><span style=\"color: #f8f8f2; text-decoration-color: #f8f8f2; background-color: #272822\">,</span><span style=\"background-color: #272822\">                                                         </span>  \n",
       "  <span style=\"color: #f8f8f2; text-decoration-color: #f8f8f2; background-color: #272822\">    </span><span style=\"color: #e6db74; text-decoration-color: #e6db74; background-color: #272822\">\"Set small, achievable goals for your practice.\"</span><span style=\"color: #f8f8f2; text-decoration-color: #f8f8f2; background-color: #272822\">,</span><span style=\"background-color: #272822\">                                                          </span>  \n",
       "  <span style=\"color: #f8f8f2; text-decoration-color: #f8f8f2; background-color: #272822\">    </span><span style=\"color: #e6db74; text-decoration-color: #e6db74; background-color: #272822\">\"Be consistent and make meditation a regular habit.\"</span><span style=\"color: #f8f8f2; text-decoration-color: #f8f8f2; background-color: #272822\">,</span><span style=\"background-color: #272822\">                                                      </span>  \n",
       "  <span style=\"color: #f8f8f2; text-decoration-color: #f8f8f2; background-color: #272822\">    </span><span style=\"color: #e6db74; text-decoration-color: #e6db74; background-color: #272822\">\"Join a meditation group or find a meditation buddy.\"</span><span style=\"color: #f8f8f2; text-decoration-color: #f8f8f2; background-color: #272822\">,</span><span style=\"background-color: #272822\">                                                     </span>  \n",
       "  <span style=\"color: #f8f8f2; text-decoration-color: #f8f8f2; background-color: #272822\">    </span><span style=\"color: #e6db74; text-decoration-color: #e6db74; background-color: #272822\">\"Reflect on the benefits of meditation.\"</span><span style=\"color: #f8f8f2; text-decoration-color: #f8f8f2; background-color: #272822\">,</span><span style=\"background-color: #272822\">                                                                  </span>  \n",
       "  <span style=\"color: #f8f8f2; text-decoration-color: #f8f8f2; background-color: #272822\">    </span><span style=\"color: #e6db74; text-decoration-color: #e6db74; background-color: #272822\">\"Be patient and kind with yourself.\"</span><span style=\"background-color: #272822\">                                                                       </span>  \n",
       "  <span style=\"color: #f8f8f2; text-decoration-color: #f8f8f2; background-color: #272822\">]</span><span style=\"background-color: #272822\">                                                                                                              </span>  \n",
       "  <span style=\"background-color: #272822\">                                                                                                               </span>  \n",
       "  <span style=\"color: #f8f8f2; text-decoration-color: #f8f8f2; background-color: #272822\">final_answer(motivation_tips)</span><span style=\"background-color: #272822\">                                                                                  </span>  \n",
       " ───────────────────────────────────────────────────────────────────────────────────────────────────────────────── \n",
       "</pre>\n"
      ],
      "text/plain": [
       " ─ \u001b[1mExecuting parsed code:\u001b[0m ──────────────────────────────────────────────────────────────────────────────────────── \n",
       "  \u001b[38;2;248;248;242;48;2;39;40;34mmotivation_tips\u001b[0m\u001b[38;2;248;248;242;48;2;39;40;34m \u001b[0m\u001b[38;2;255;70;137;48;2;39;40;34m=\u001b[0m\u001b[38;2;248;248;242;48;2;39;40;34m \u001b[0m\u001b[38;2;248;248;242;48;2;39;40;34m[\u001b[0m\u001b[48;2;39;40;34m                                                                                            \u001b[0m  \n",
       "  \u001b[38;2;248;248;242;48;2;39;40;34m    \u001b[0m\u001b[38;2;230;219;116;48;2;39;40;34m\"\u001b[0m\u001b[38;2;230;219;116;48;2;39;40;34mStart with short sessions and gradually increase the duration.\u001b[0m\u001b[38;2;230;219;116;48;2;39;40;34m\"\u001b[0m\u001b[38;2;248;248;242;48;2;39;40;34m,\u001b[0m\u001b[48;2;39;40;34m                                          \u001b[0m  \n",
       "  \u001b[38;2;248;248;242;48;2;39;40;34m    \u001b[0m\u001b[38;2;230;219;116;48;2;39;40;34m\"\u001b[0m\u001b[38;2;230;219;116;48;2;39;40;34mFind a comfortable and quiet place to meditate.\u001b[0m\u001b[38;2;230;219;116;48;2;39;40;34m\"\u001b[0m\u001b[38;2;248;248;242;48;2;39;40;34m,\u001b[0m\u001b[48;2;39;40;34m                                                         \u001b[0m  \n",
       "  \u001b[38;2;248;248;242;48;2;39;40;34m    \u001b[0m\u001b[38;2;230;219;116;48;2;39;40;34m\"\u001b[0m\u001b[38;2;230;219;116;48;2;39;40;34mSet small, achievable goals for your practice.\u001b[0m\u001b[38;2;230;219;116;48;2;39;40;34m\"\u001b[0m\u001b[38;2;248;248;242;48;2;39;40;34m,\u001b[0m\u001b[48;2;39;40;34m                                                          \u001b[0m  \n",
       "  \u001b[38;2;248;248;242;48;2;39;40;34m    \u001b[0m\u001b[38;2;230;219;116;48;2;39;40;34m\"\u001b[0m\u001b[38;2;230;219;116;48;2;39;40;34mBe consistent and make meditation a regular habit.\u001b[0m\u001b[38;2;230;219;116;48;2;39;40;34m\"\u001b[0m\u001b[38;2;248;248;242;48;2;39;40;34m,\u001b[0m\u001b[48;2;39;40;34m                                                      \u001b[0m  \n",
       "  \u001b[38;2;248;248;242;48;2;39;40;34m    \u001b[0m\u001b[38;2;230;219;116;48;2;39;40;34m\"\u001b[0m\u001b[38;2;230;219;116;48;2;39;40;34mJoin a meditation group or find a meditation buddy.\u001b[0m\u001b[38;2;230;219;116;48;2;39;40;34m\"\u001b[0m\u001b[38;2;248;248;242;48;2;39;40;34m,\u001b[0m\u001b[48;2;39;40;34m                                                     \u001b[0m  \n",
       "  \u001b[38;2;248;248;242;48;2;39;40;34m    \u001b[0m\u001b[38;2;230;219;116;48;2;39;40;34m\"\u001b[0m\u001b[38;2;230;219;116;48;2;39;40;34mReflect on the benefits of meditation.\u001b[0m\u001b[38;2;230;219;116;48;2;39;40;34m\"\u001b[0m\u001b[38;2;248;248;242;48;2;39;40;34m,\u001b[0m\u001b[48;2;39;40;34m                                                                  \u001b[0m  \n",
       "  \u001b[38;2;248;248;242;48;2;39;40;34m    \u001b[0m\u001b[38;2;230;219;116;48;2;39;40;34m\"\u001b[0m\u001b[38;2;230;219;116;48;2;39;40;34mBe patient and kind with yourself.\u001b[0m\u001b[38;2;230;219;116;48;2;39;40;34m\"\u001b[0m\u001b[48;2;39;40;34m                                                                       \u001b[0m  \n",
       "  \u001b[38;2;248;248;242;48;2;39;40;34m]\u001b[0m\u001b[48;2;39;40;34m                                                                                                              \u001b[0m  \n",
       "  \u001b[48;2;39;40;34m                                                                                                               \u001b[0m  \n",
       "  \u001b[38;2;248;248;242;48;2;39;40;34mfinal_answer\u001b[0m\u001b[38;2;248;248;242;48;2;39;40;34m(\u001b[0m\u001b[38;2;248;248;242;48;2;39;40;34mmotivation_tips\u001b[0m\u001b[38;2;248;248;242;48;2;39;40;34m)\u001b[0m\u001b[48;2;39;40;34m                                                                                  \u001b[0m  \n",
       " ───────────────────────────────────────────────────────────────────────────────────────────────────────────────── \n"
      ]
     },
     "metadata": {},
     "output_type": "display_data"
    },
    {
     "data": {
      "text/html": [
       "<pre style=\"white-space:pre;overflow-x:auto;line-height:normal;font-family:Menlo,'DejaVu Sans Mono',consolas,'Courier New',monospace\"><span style=\"color: #d4b702; text-decoration-color: #d4b702; font-weight: bold\">Out - Final answer: ['Start with short sessions and gradually increase the duration.', 'Find a comfortable and </span>\n",
       "<span style=\"color: #d4b702; text-decoration-color: #d4b702; font-weight: bold\">quiet place to meditate.', 'Set small, achievable goals for your practice.', 'Be consistent and make meditation a </span>\n",
       "<span style=\"color: #d4b702; text-decoration-color: #d4b702; font-weight: bold\">regular habit.', 'Join a meditation group or find a meditation buddy.', 'Reflect on the benefits of meditation.', </span>\n",
       "<span style=\"color: #d4b702; text-decoration-color: #d4b702; font-weight: bold\">'Be patient and kind with yourself.']</span>\n",
       "</pre>\n"
      ],
      "text/plain": [
       "\u001b[1;38;2;212;183;2mOut - Final answer: ['Start with short sessions and gradually increase the duration.', 'Find a comfortable and \u001b[0m\n",
       "\u001b[1;38;2;212;183;2mquiet place to meditate.', 'Set small, achievable goals for your practice.', 'Be consistent and make meditation a \u001b[0m\n",
       "\u001b[1;38;2;212;183;2mregular habit.', 'Join a meditation group or find a meditation buddy.', 'Reflect on the benefits of meditation.', \u001b[0m\n",
       "\u001b[1;38;2;212;183;2m'Be patient and kind with yourself.']\u001b[0m\n"
      ]
     },
     "metadata": {},
     "output_type": "display_data"
    },
    {
     "data": {
      "text/html": [
       "<pre style=\"white-space:pre;overflow-x:auto;line-height:normal;font-family:Menlo,'DejaVu Sans Mono',consolas,'Courier New',monospace\"><span style=\"color: #7f7f7f; text-decoration-color: #7f7f7f\">[Step 4: Duration 7.55 seconds| Input tokens: 16,193 | Output tokens: 478]</span>\n",
       "</pre>\n"
      ],
      "text/plain": [
       "\u001b[2m[Step 4: Duration 7.55 seconds| Input tokens: 16,193 | Output tokens: 478]\u001b[0m\n"
      ]
     },
     "metadata": {},
     "output_type": "display_data"
    },
    {
     "name": "stdout",
     "output_type": "stream",
     "text": [
      "['Start with short sessions and gradually increase the duration.', 'Find a comfortable and quiet place to meditate.', 'Set small, achievable goals for your practice.', 'Be consistent and make meditation a regular habit.', 'Join a meditation group or find a meditation buddy.', 'Reflect on the benefits of meditation.', 'Be patient and kind with yourself.']\n"
     ]
    }
   ],
   "source": [
    "from pathlib import Path\n",
    "from typing import List\n",
    "\n",
    "from langchain_community.vectorstores import FAISS\n",
    "from smolagents import Agent\n",
    "from smolagents.memory import ConversationMemory\n",
    "\n",
    "def create_agent(vector_store: FAISS) -> Agent:\n",
    "    \"\"\"Create an agent with RAG capabilities.\"\"\"\n",
    "    # Create the search tool\n",
    "    search_tool = SuttaSearchTool(vector_store)\n",
    "\n",
    "    # Create the agent with the search tool\n",
    "    agent = Agent(\n",
    "        tools=[search_tool],\n",
    "        memory=ConversationMemory(),\n",
    "        system_prompt=\"\"\"You are a helpful assistant specializing in Buddhist texts and teachings.\n",
    "        When a user asks a question, use the scripture_search_tool tool to find relevant passages from the suttas.\n",
    "        Then, provide a thoughtful response based on the found passages.\n",
    "        Always cite the sources you use in your response.\"\"\",\n",
    "        # model=model,\n",
    "    )\n",
    "\n",
    "    return agent\n",
    "\n",
    "agent = create_agent(vector_store)\n",
    "\n",
    "# Example usage\n",
    "while True:\n",
    "    query = input(\"\\nEnter your question (or 'quit' to exit): \")\n",
    "    if query.lower() == \"quit\":\n",
    "        break\n",
    "\n",
    "    response = agent.run(query)\n",
    "    print(\"\\nResponse:\", response)\n",
    "\n",
    "# # # Initialize the agent\n",
    "# model = HfApiModel(\n",
    "#     # model_id='Qwen/Qwen2.5-Coder-32B-Instruct', # it is possible that this model may be overloaded\n",
    "#     model_id=\"https://pflgm2locj2t89co.us-east-1.aws.endpoints.huggingface.cloud\",\n",
    "#     token=os.getenv(\"HF_TOKEN\"),\n",
    "# )\n",
    "# agent = CodeAgent(tools=[scripture_search_tool], model=model)\n",
    "\n",
    "# # # Example usage\n",
    "# response = agent.run(\n",
    "#     \"I struggle with motivation to meditate. What can I do?\"\n",
    "# )"
   ]
  },
  {
   "cell_type": "code",
   "execution_count": null,
   "metadata": {},
   "outputs": [],
   "source": []
  }
 ],
 "metadata": {
  "kernelspec": {
   "display_name": ".venv",
   "language": "python",
   "name": "python3"
  },
  "language_info": {
   "codemirror_mode": {
    "name": "ipython",
    "version": 3
   },
   "file_extension": ".py",
   "mimetype": "text/x-python",
   "name": "python",
   "nbconvert_exporter": "python",
   "pygments_lexer": "ipython3",
   "version": "3.12.9"
  }
 },
 "nbformat": 4,
 "nbformat_minor": 2
}
