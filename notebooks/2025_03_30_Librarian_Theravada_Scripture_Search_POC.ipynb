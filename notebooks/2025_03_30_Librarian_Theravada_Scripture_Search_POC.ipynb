{
 "cells": [
  {
   "cell_type": "markdown",
   "metadata": {},
   "source": [
    "# Theravada Scripture Search POC\n",
    "\n",
    "In this notebook, we'll create a proof-of-concept of search over the translated Theravadan texts from https://www.dhammatalks.org/suttas/."
   ]
  },
  {
   "cell_type": "markdown",
   "metadata": {},
   "source": [
    "## Setup"
   ]
  },
  {
   "cell_type": "code",
   "execution_count": 1,
   "metadata": {},
   "outputs": [
    {
     "ename": "",
     "evalue": "",
     "output_type": "error",
     "traceback": [
      "\u001b[1;31mRunning cells with '.venv (Python 3.12.9)' requires the ipykernel package.\n",
      "\u001b[1;31mRun the following command to install 'ipykernel' into the Python environment. \n",
      "\u001b[1;31mCommand: '/Users/anthonydachille/code/unother/scripture-search/.venv/bin/python -m pip install ipykernel -U --force-reinstall'"
     ]
    }
   ],
   "source": [
    "\n",
    "# Run once.\n",
    "\n",
    "%load_ext autoreload\n",
    "%autoreload 2\n",
    "\n",
    "import os\n",
    "\n",
    "# Move execution back one directory.\n",
    "os.chdir('..')"
   ]
  },
  {
   "cell_type": "code",
   "execution_count": 2,
   "metadata": {},
   "outputs": [
    {
     "data": {
      "text/html": [
       "\n",
       "<style>\n",
       ".output_scroll {\n",
       "    max-height: 400px;\n",
       "    overflow-y: auto;\n",
       "}\n",
       "</style>\n"
      ],
      "text/plain": [
       "<IPython.core.display.HTML object>"
      ]
     },
     "execution_count": 2,
     "metadata": {},
     "output_type": "execute_result"
    }
   ],
   "source": [
    "from IPython.display import HTML\n",
    "\n",
    "HTML(\n",
    "    \"\"\"\n",
    "<style>\n",
    ".output_scroll {\n",
    "    max-height: 400px;\n",
    "    overflow-y: auto;\n",
    "}\n",
    "</style>\n",
    "\"\"\"\n",
    ")"
   ]
  },
  {
   "cell_type": "code",
   "execution_count": 3,
   "metadata": {},
   "outputs": [
    {
     "data": {
      "text/plain": [
       "True"
      ]
     },
     "execution_count": 3,
     "metadata": {},
     "output_type": "execute_result"
    }
   ],
   "source": [
    "import pandas as pd\n",
    "from dotenv import load_dotenv\n",
    "\n",
    "load_dotenv()\n"
   ]
  },
  {
   "cell_type": "markdown",
   "metadata": {},
   "source": [
    "## Load data"
   ]
  },
  {
   "cell_type": "code",
   "execution_count": 4,
   "metadata": {},
   "outputs": [
    {
     "name": "stdout",
     "output_type": "stream",
     "text": [
      "(240, 8)\n"
     ]
    },
    {
     "data": {
      "text/html": [
       "<div>\n",
       "<style scoped>\n",
       "    .dataframe tbody tr th:only-of-type {\n",
       "        vertical-align: middle;\n",
       "    }\n",
       "\n",
       "    .dataframe tbody tr th {\n",
       "        vertical-align: top;\n",
       "    }\n",
       "\n",
       "    .dataframe thead th {\n",
       "        text-align: right;\n",
       "    }\n",
       "</style>\n",
       "<table border=\"1\" class=\"dataframe\">\n",
       "  <thead>\n",
       "    <tr style=\"text-align: right;\">\n",
       "      <th></th>\n",
       "      <th>collection</th>\n",
       "      <th>title</th>\n",
       "      <th>url_source</th>\n",
       "      <th>religion</th>\n",
       "      <th>subgroup</th>\n",
       "      <th>source</th>\n",
       "      <th>translation_source</th>\n",
       "      <th>text</th>\n",
       "    </tr>\n",
       "  </thead>\n",
       "  <tbody>\n",
       "    <tr>\n",
       "      <th>0</th>\n",
       "      <td>AN</td>\n",
       "      <td>A Single Thing</td>\n",
       "      <td>https://www.dhammatalks.org/suttas/AN/AN1_21.html</td>\n",
       "      <td>Buddhism</td>\n",
       "      <td>Theravada</td>\n",
       "      <td>Dhamma Talks</td>\n",
       "      <td>Thanissaro Bhikkhu</td>\n",
       "      <td>21. âI donât envision a single thing that,...</td>\n",
       "    </tr>\n",
       "    <tr>\n",
       "      <th>1</th>\n",
       "      <td>AN</td>\n",
       "      <td>A Pool of Water</td>\n",
       "      <td>https://www.dhammatalks.org/suttas/AN/AN1_45.html</td>\n",
       "      <td>Buddhism</td>\n",
       "      <td>Theravada</td>\n",
       "      <td>Dhamma Talks</td>\n",
       "      <td>Thanissaro Bhikkhu</td>\n",
       "      <td>45. âSuppose there were a pool of waterâsu...</td>\n",
       "    </tr>\n",
       "    <tr>\n",
       "      <th>2</th>\n",
       "      <td>AN</td>\n",
       "      <td>Soft</td>\n",
       "      <td>https://www.dhammatalks.org/suttas/AN/AN1_48.html</td>\n",
       "      <td>Buddhism</td>\n",
       "      <td>Theravada</td>\n",
       "      <td>Dhamma Talks</td>\n",
       "      <td>Thanissaro Bhikkhu</td>\n",
       "      <td>âJust as, of all trees, the balsam is foremo...</td>\n",
       "    </tr>\n",
       "    <tr>\n",
       "      <th>3</th>\n",
       "      <td>AN</td>\n",
       "      <td>Quick to Reverse Itself</td>\n",
       "      <td>https://www.dhammatalks.org/suttas/AN/AN1_49.html</td>\n",
       "      <td>Buddhism</td>\n",
       "      <td>Theravada</td>\n",
       "      <td>Dhamma Talks</td>\n",
       "      <td>Thanissaro Bhikkhu</td>\n",
       "      <td>âI donât envision a single thing that is a...</td>\n",
       "    </tr>\n",
       "    <tr>\n",
       "      <th>4</th>\n",
       "      <td>AN</td>\n",
       "      <td>Luminous</td>\n",
       "      <td>https://www.dhammatalks.org/suttas/AN/AN1_50.html</td>\n",
       "      <td>Buddhism</td>\n",
       "      <td>Theravada</td>\n",
       "      <td>Dhamma Talks</td>\n",
       "      <td>Thanissaro Bhikkhu</td>\n",
       "      <td>âLuminous, monks, is the mind.1 And it is de...</td>\n",
       "    </tr>\n",
       "  </tbody>\n",
       "</table>\n",
       "</div>"
      ],
      "text/plain": [
       "  collection                    title  \\\n",
       "0         AN           A Single Thing   \n",
       "1         AN          A Pool of Water   \n",
       "2         AN                     Soft   \n",
       "3         AN  Quick to Reverse Itself   \n",
       "4         AN                 Luminous   \n",
       "\n",
       "                                          url_source  religion   subgroup  \\\n",
       "0  https://www.dhammatalks.org/suttas/AN/AN1_21.html  Buddhism  Theravada   \n",
       "1  https://www.dhammatalks.org/suttas/AN/AN1_45.html  Buddhism  Theravada   \n",
       "2  https://www.dhammatalks.org/suttas/AN/AN1_48.html  Buddhism  Theravada   \n",
       "3  https://www.dhammatalks.org/suttas/AN/AN1_49.html  Buddhism  Theravada   \n",
       "4  https://www.dhammatalks.org/suttas/AN/AN1_50.html  Buddhism  Theravada   \n",
       "\n",
       "         source  translation_source  \\\n",
       "0  Dhamma Talks  Thanissaro Bhikkhu   \n",
       "1  Dhamma Talks  Thanissaro Bhikkhu   \n",
       "2  Dhamma Talks  Thanissaro Bhikkhu   \n",
       "3  Dhamma Talks  Thanissaro Bhikkhu   \n",
       "4  Dhamma Talks  Thanissaro Bhikkhu   \n",
       "\n",
       "                                                text  \n",
       "0  21. âI donât envision a single thing that,...  \n",
       "1  45. âSuppose there were a pool of waterâsu...  \n",
       "2  âJust as, of all trees, the balsam is foremo...  \n",
       "3  âI donât envision a single thing that is a...  \n",
       "4  âLuminous, monks, is the mind.1 And it is de...  "
      ]
     },
     "execution_count": 4,
     "metadata": {},
     "output_type": "execute_result"
    }
   ],
   "source": [
    "dhamma_talks_suttas = pd.read_csv('data/dhamma_talks_suttas.csv', index_col=0)\n",
    "print(dhamma_talks_suttas.shape)\n",
    "dhamma_talks_suttas.head()"
   ]
  },
  {
   "cell_type": "code",
   "execution_count": 5,
   "metadata": {},
   "outputs": [
    {
     "name": "stdout",
     "output_type": "stream",
     "text": [
      "(240, 8)\n",
      "(239, 8)\n",
      "(235, 8)\n"
     ]
    },
    {
     "data": {
      "text/plain": [
       "(235, 8)"
      ]
     },
     "execution_count": 5,
     "metadata": {},
     "output_type": "execute_result"
    }
   ],
   "source": [
    "\n",
    "def decode_text(text):\n",
    "    if not isinstance(text, str):\n",
    "        return text\n",
    "    try:\n",
    "        # First try to decode as UTF-8\n",
    "        return text.encode(\"latin1\").decode(\"utf-8\")\n",
    "    except UnicodeDecodeError:\n",
    "        try:\n",
    "            # If that fails, try to decode as latin1 first\n",
    "            return text.encode(\"latin1\").decode(\"latin1\")\n",
    "        except:\n",
    "            # If all else fails, return the original text\n",
    "            return text\n",
    "\n",
    "def preprocess(df: pd.DataFrame) -> pd.DataFrame:\n",
    "    print(df.shape)\n",
    "    df = df.dropna(subset=[\"text\"])\n",
    "    print(df.shape)\n",
    "    df = df.drop_duplicates(subset=[\"text\"])\n",
    "    print(df.shape)\n",
    "    df[\"text\"] = df[\"text\"].apply(decode_text)\n",
    "    return df\n",
    "\n",
    "\n",
    "dhamma_talks_suttas = preprocess(dhamma_talks_suttas)\n",
    "dhamma_talks_suttas.shape\n"
   ]
  },
  {
   "cell_type": "markdown",
   "metadata": {},
   "source": [
    "## Create basic search"
   ]
  },
  {
   "cell_type": "code",
   "execution_count": 6,
   "metadata": {},
   "outputs": [
    {
     "name": "stderr",
     "output_type": "stream",
     "text": [
      "/Users/anthonydachille/code/unother/scripture-search/.venv/lib/python3.12/site-packages/tqdm/auto.py:21: TqdmWarning: IProgress not found. Please update jupyter and ipywidgets. See https://ipywidgets.readthedocs.io/en/stable/user_install.html\n",
      "  from .autonotebook import tqdm as notebook_tqdm\n"
     ]
    },
    {
     "name": "stdout",
     "output_type": "stream",
     "text": [
      "9158\n"
     ]
    }
   ],
   "source": [
    "from langchain.docstore.document import Document\n",
    "from langchain.text_splitter import RecursiveCharacterTextSplitter\n",
    "from smolagents import CodeAgent, HfApiModel\n",
    "\n",
    "from scripture_search.search import ScriptureSearchTool\n",
    "\n",
    "def row_to_doc(row: pd.Series) -> Document:\n",
    "    return Document(\n",
    "        page_content=row[\"text\"], \n",
    "        metadata={\n",
    "            \"collection\": row[\"collection\"],\n",
    "            \"title\": row[\"title\"],\n",
    "            \"url_source\": row[\"url_source\"],\n",
    "            \"religion\": row[\"religion\"],\n",
    "            \"subgroup\": row[\"subgroup\"],\n",
    "            \"source\": row[\"source\"],\n",
    "            \"translation_source\": row[\"translation_source\"],\n",
    "        }\n",
    "    )\n",
    "\n",
    "documents = dhamma_talks_suttas.apply(row_to_doc, axis=1).tolist()\n",
    "\n",
    "# Split the documents into smaller chunks for more efficient search\n",
    "text_splitter = RecursiveCharacterTextSplitter(\n",
    "    chunk_size=500,\n",
    "    chunk_overlap=50,\n",
    "    add_start_index=True,\n",
    "    strip_whitespace=True,\n",
    "    separators=[\"\\n\\n\", \"\\n\", \".\", \" \", \"\"],\n",
    ")\n",
    "docs_processed = text_splitter.split_documents(documents)\n",
    "print(len(docs_processed))\n",
    "\n",
    "# # Create the retriever tool\n",
    "scripture_search_tool = ScriptureSearchTool(docs_processed)"
   ]
  },
  {
   "cell_type": "code",
   "execution_count": 7,
   "metadata": {},
   "outputs": [
    {
     "name": "stdout",
     "output_type": "stream",
     "text": [
      "\n",
      " The following scriptures may be helpful:\n",
      "\n",
      "\n",
      "===== Scripture: The Simile of the Cloth | source: https://www.dhammatalks.org/suttas/MN/MN7.html =====\n",
      "wouldn’t cleanse\n",
      "a dark deed.\n",
      "What can the Sundarikā do?\n",
      "What the Payāga? What the Bāhuka?\n",
      "A person of animosity,\n",
      "one who’s done wrong,\n",
      "cannot be cleansed there\n",
      "of evil deeds.\n",
      "But for one who is pure,\n",
      "it’s always the Phaggu festival;\n",
      "for one who is pure,\n",
      "always the uposatha.\n",
      "For one who is pure, clean in his deeds,\n",
      "his practices       always\n",
      "reach consummation.\n",
      "Bathe right here, brahman.\n",
      "Create safety for yourself\n",
      "with regard to all beings.\n",
      "If you\n",
      "don’t tell a lie,\n",
      "don’t harm living beings,\n",
      "\n",
      "===== Scripture: To Gaá¹aka MoggallÄna | source: https://www.dhammatalks.org/suttas/MN/MN107.html =====\n",
      "“What can I do about that, Master Gotama? I’m the one who shows the way.”\n",
      "“In the same way, brahman—when unbinding is there, and the path leading to unbinding is there, and I am there as the guide—when my disciples are thus exhorted & instructed by me, some attain unbinding, the absolute conclusion, and some don’t. What can I do about that, brahman? The Tathāgata is the one who shows the way.”\n",
      "\n",
      "===== Scripture: The BrahmÄ Invitation | source: https://www.dhammatalks.org/suttas/MN/MN49.html =====\n",
      "“When this was said, Baka Brahmā told me, ‘But, good sir, what is actually constant I call “constant.” What is actually permanent I call “permanent.” What is actually eternal I call “eternal.” What is actually total I call “total.” What is actually not subject to falling away I call “not subject to falling away.” Where one does not take birth, age, die, fall away, or reappear, I say, “For this does not take birth, does not age, does not die, does not fall away, does not reappear\n",
      "\n",
      "===== Scripture: At Devadaha | source: https://www.dhammatalks.org/suttas/MN/MN101.html =====\n",
      ". That being the case, what kind of conviction do you have for your teacher with regard to the past? What kind of liking? What kind of unbroken tradition? What kind of\n"
     ]
    }
   ],
   "source": [
    "print(scripture_search_tool.forward(\"I struggle with motivation to meditate. What can I do?\")[:2000])"
   ]
  },
  {
   "cell_type": "markdown",
   "metadata": {},
   "source": [
    "These aren't super useful in their current form. Let's use agents to try to improve the output."
   ]
  },
  {
   "cell_type": "markdown",
   "metadata": {},
   "source": [
    "## Agentic Librarian approach\n",
    "With this approach, the agent will only directly output text from the suttas and will not try to interpret the text at all."
   ]
  },
  {
   "cell_type": "code",
   "execution_count": 8,
   "metadata": {},
   "outputs": [
    {
     "data": {
      "text/html": [
       "<pre style=\"white-space:pre;overflow-x:auto;line-height:normal;font-family:Menlo,'DejaVu Sans Mono',consolas,'Courier New',monospace\"><span style=\"color: #d4b702; text-decoration-color: #d4b702\">╭──────────────────────────────────────────────────── </span><span style=\"color: #d4b702; text-decoration-color: #d4b702; font-weight: bold\">New run</span><span style=\"color: #d4b702; text-decoration-color: #d4b702\"> ────────────────────────────────────────────────────╮</span>\n",
       "<span style=\"color: #d4b702; text-decoration-color: #d4b702\">│</span>                                                                                                                 <span style=\"color: #d4b702; text-decoration-color: #d4b702\">│</span>\n",
       "<span style=\"color: #d4b702; text-decoration-color: #d4b702\">│</span> <span style=\"font-weight: bold\">I struggle with motivation to meditate. What can I do?</span>                                                          <span style=\"color: #d4b702; text-decoration-color: #d4b702\">│</span>\n",
       "<span style=\"color: #d4b702; text-decoration-color: #d4b702\">│</span>                                                                                                                 <span style=\"color: #d4b702; text-decoration-color: #d4b702\">│</span>\n",
       "<span style=\"color: #d4b702; text-decoration-color: #d4b702\">╰─ HfApiModel - https://pflgm2locj2t89co.us-east-1.aws.endpoints.huggingface.cloud ───────────────────────────────╯</span>\n",
       "</pre>\n"
      ],
      "text/plain": [
       "\u001b[38;2;212;183;2m╭─\u001b[0m\u001b[38;2;212;183;2m───────────────────────────────────────────────────\u001b[0m\u001b[38;2;212;183;2m \u001b[0m\u001b[1;38;2;212;183;2mNew run\u001b[0m\u001b[38;2;212;183;2m \u001b[0m\u001b[38;2;212;183;2m───────────────────────────────────────────────────\u001b[0m\u001b[38;2;212;183;2m─╮\u001b[0m\n",
       "\u001b[38;2;212;183;2m│\u001b[0m                                                                                                                 \u001b[38;2;212;183;2m│\u001b[0m\n",
       "\u001b[38;2;212;183;2m│\u001b[0m \u001b[1mI struggle with motivation to meditate. What can I do?\u001b[0m                                                          \u001b[38;2;212;183;2m│\u001b[0m\n",
       "\u001b[38;2;212;183;2m│\u001b[0m                                                                                                                 \u001b[38;2;212;183;2m│\u001b[0m\n",
       "\u001b[38;2;212;183;2m╰─\u001b[0m\u001b[38;2;212;183;2m HfApiModel - https://pflgm2locj2t89co.us-east-1.aws.endpoints.huggingface.cloud \u001b[0m\u001b[38;2;212;183;2m──────────────────────────────\u001b[0m\u001b[38;2;212;183;2m─╯\u001b[0m\n"
      ]
     },
     "metadata": {},
     "output_type": "display_data"
    },
    {
     "data": {
      "text/html": [
       "<pre style=\"white-space:pre;overflow-x:auto;line-height:normal;font-family:Menlo,'DejaVu Sans Mono',consolas,'Courier New',monospace\"><span style=\"color: #d4b702; text-decoration-color: #d4b702\">━━━━━━━━━━━━━━━━━━━━━━━━━━━━━━━━━━━━━━━━━━━━━━━━━━━━━ </span><span style=\"font-weight: bold\">Step </span><span style=\"color: #008080; text-decoration-color: #008080; font-weight: bold\">1</span><span style=\"color: #d4b702; text-decoration-color: #d4b702\"> ━━━━━━━━━━━━━━━━━━━━━━━━━━━━━━━━━━━━━━━━━━━━━━━━━━━━━━</span>\n",
       "</pre>\n"
      ],
      "text/plain": [
       "\u001b[38;2;212;183;2m━━━━━━━━━━━━━━━━━━━━━━━━━━━━━━━━━━━━━━━━━━━━━━━━━━━━━ \u001b[0m\u001b[1mStep \u001b[0m\u001b[1;36m1\u001b[0m\u001b[38;2;212;183;2m ━━━━━━━━━━━━━━━━━━━━━━━━━━━━━━━━━━━━━━━━━━━━━━━━━━━━━━\u001b[0m\n"
      ]
     },
     "metadata": {},
     "output_type": "display_data"
    },
    {
     "data": {
      "text/html": [
       "<pre style=\"white-space:pre;overflow-x:auto;line-height:normal;font-family:Menlo,'DejaVu Sans Mono',consolas,'Courier New',monospace\"> ─ <span style=\"font-weight: bold\">Executing parsed code:</span> ──────────────────────────────────────────────────────────────────────────────────────── \n",
       "  <span style=\"color: #f8f8f2; text-decoration-color: #f8f8f2; background-color: #272822\">advice </span><span style=\"color: #ff4689; text-decoration-color: #ff4689; background-color: #272822\">=</span><span style=\"color: #f8f8f2; text-decoration-color: #f8f8f2; background-color: #272822\"> scripture_search_tool(query</span><span style=\"color: #ff4689; text-decoration-color: #ff4689; background-color: #272822\">=</span><span style=\"color: #e6db74; text-decoration-color: #e6db74; background-color: #272822\">\"benefits of meditation\"</span><span style=\"color: #f8f8f2; text-decoration-color: #f8f8f2; background-color: #272822\">)</span><span style=\"background-color: #272822\">                                                 </span>  \n",
       "  <span style=\"color: #f8f8f2; text-decoration-color: #f8f8f2; background-color: #272822\">print(advice)</span><span style=\"background-color: #272822\">                                                                                                  </span>  \n",
       " ───────────────────────────────────────────────────────────────────────────────────────────────────────────────── \n",
       "</pre>\n"
      ],
      "text/plain": [
       " ─ \u001b[1mExecuting parsed code:\u001b[0m ──────────────────────────────────────────────────────────────────────────────────────── \n",
       "  \u001b[38;2;248;248;242;48;2;39;40;34madvice\u001b[0m\u001b[38;2;248;248;242;48;2;39;40;34m \u001b[0m\u001b[38;2;255;70;137;48;2;39;40;34m=\u001b[0m\u001b[38;2;248;248;242;48;2;39;40;34m \u001b[0m\u001b[38;2;248;248;242;48;2;39;40;34mscripture_search_tool\u001b[0m\u001b[38;2;248;248;242;48;2;39;40;34m(\u001b[0m\u001b[38;2;248;248;242;48;2;39;40;34mquery\u001b[0m\u001b[38;2;255;70;137;48;2;39;40;34m=\u001b[0m\u001b[38;2;230;219;116;48;2;39;40;34m\"\u001b[0m\u001b[38;2;230;219;116;48;2;39;40;34mbenefits of meditation\u001b[0m\u001b[38;2;230;219;116;48;2;39;40;34m\"\u001b[0m\u001b[38;2;248;248;242;48;2;39;40;34m)\u001b[0m\u001b[48;2;39;40;34m                                                 \u001b[0m  \n",
       "  \u001b[38;2;248;248;242;48;2;39;40;34mprint\u001b[0m\u001b[38;2;248;248;242;48;2;39;40;34m(\u001b[0m\u001b[38;2;248;248;242;48;2;39;40;34madvice\u001b[0m\u001b[38;2;248;248;242;48;2;39;40;34m)\u001b[0m\u001b[48;2;39;40;34m                                                                                                  \u001b[0m  \n",
       " ───────────────────────────────────────────────────────────────────────────────────────────────────────────────── \n"
      ]
     },
     "metadata": {},
     "output_type": "display_data"
    },
    {
     "data": {
      "text/html": [
       "<pre style=\"white-space:pre;overflow-x:auto;line-height:normal;font-family:Menlo,'DejaVu Sans Mono',consolas,'Courier New',monospace\"><span style=\"font-weight: bold\">Execution logs:</span>\n",
       "\n",
       " The following scriptures may be helpful:\n",
       "\n",
       "\n",
       "===== Scripture: Heedfulness | source: https://www.dhammatalks.org/suttas/SN/SN3_17.html =====\n",
       "Near Sāvatthī. As he was sitting to one side, King Pasenadi Kosala said to the Blessed One: “Is there, lord, any \n",
       "one quality that keeps both kinds of benefits secure—benefits in this life &amp; benefits in lives to come?”\n",
       "“There is one quality, great king, that keeps both kinds of benefits secure— benefits in this life &amp; benefits in \n",
       "lives to come.”\n",
       "“But what, lord, is that one quality… ?”\n",
       "\n",
       "===== Scripture: The Greater Exhortation to RÄhula | source: https://www.dhammatalks.org/suttas/MN/MN62.html =====\n",
       "“Develop the meditation of goodwill. For when you are developing the meditation of goodwill, ill-will will be \n",
       "abandoned.\n",
       "“Develop the meditation of compassion. For when you are developing the meditation of compassion, harmfulness will \n",
       "be abandoned.\n",
       "“Develop the meditation of empathetic joy. For when you are developing the meditation of empathetic joy, resentment\n",
       "will be abandoned.\n",
       "\n",
       "===== Scripture: The Greater Exhortation to RÄhula | source: https://www.dhammatalks.org/suttas/MN/MN62.html =====\n",
       "“Develop the meditation of equanimity. For when you are developing the meditation of equanimity, irritation will be\n",
       "abandoned.\n",
       "“Develop the meditation of the unattractive. For when you are developing the meditation of the unattractive, \n",
       "passion will be abandoned.\n",
       "“Develop the meditation of the perception of inconstancy. For when you are developing the meditation of the \n",
       "perception of inconstancy, the conceit ‘I am’ will be abandoned.\n",
       "\n",
       "===== Scripture: Heedfulness | source: https://www.dhammatalks.org/suttas/SN/SN3_17.html =====\n",
       "“But what, lord, is that one quality… ?”\n",
       "“Heedfulness, great king. Just as the footprints of all living beings with legs can be encompassed by the footprint\n",
       "of the elephant, and the elephant’s footprint is declared to be supreme among them in terms of its great size; in \n",
       "the same way, heedfulness is the one quality that keeps both kinds of benefits secure—benefits in this life &amp; \n",
       "benefits in lives to come.”\n",
       "\n",
       "===== Scripture: Heedfulness | source: https://www.dhammatalks.org/suttas/SN/SN3_17.html =====\n",
       "That is what the Blessed One said. Having said that, the One Well-Gone, the Teacher, said further:\n",
       "“For one who desires\n",
       "long life, health,\n",
       "beauty, heaven, &amp; noble birth,\n",
       "—lavish delights, one after another—\n",
       "the wise praise heedfulness\n",
       "in doing acts of merit.\n",
       "When heedful, wise,\n",
       "you achieve both kinds of benefit:\n",
       "benefits         in this life,\n",
       "&amp; benefits         in lives to come.\n",
       "By breaking through to your benefit,\n",
       "you’re called enlightened,\n",
       "wise.\n",
       "\n",
       "===== Scripture: The Greater Exhortation to RÄhula | source: https://www.dhammatalks.org/suttas/MN/MN62.html =====\n",
       "Ven. Sāriputta saw Ven. Rāhula sitting at the foot of a tree, his legs folded crosswise, his body held erect, &amp; \n",
       "with mindfulness set to the fore. On seeing him, he said to him, “Rāhula, develop the meditation [bhāvanā] of \n",
       "mindfulness of in-&amp;-out breathing. The meditation of mindfulness of in-&amp;-out breathing, when developed &amp; pursued, \n",
       "is of great fruit, of great benefit.”\n",
       "\n",
       "===== Scripture: The Greater Exhortation to RÄhula | source: https://www.dhammatalks.org/suttas/MN/MN62.html =====\n",
       "“Develop the meditation in tune with water. For when you are developing the meditation in tune with water, \n",
       "agreeable &amp; disagreeable sensory impressions that have arisen will not stay in charge of your mind\n",
       "\n",
       "===== Scripture: The Greater Exhortation to RÄhula | source: https://www.dhammatalks.org/suttas/MN/MN62.html =====\n",
       "“Develop the meditation in tune with fire. For when you are developing the meditation in tune with fire, agreeable \n",
       "&amp; disagreeable sensory impressions that have arisen will not stay in charge of your mind\n",
       "\n",
       "===== Scripture: The Greater Exhortation to RÄhula | source: https://www.dhammatalks.org/suttas/MN/MN62.html =====\n",
       "“Develop the meditation in tune with wind. For when you are developing the meditation in tune with wind, agreeable \n",
       "&amp; disagreeable sensory impressions that have arisen will not stay in charge of your mind\n",
       "\n",
       "===== Scripture: The Greater Exhortation to RÄhula | source: https://www.dhammatalks.org/suttas/MN/MN62.html =====\n",
       "“Rāhula, develop the meditation in tune with earth. For when you are developing the meditation in tune with earth, \n",
       "agreeable &amp; disagreeable sensory impressions that have arisen will not stay in charge of your mind\n",
       "\n",
       "Out: None\n",
       "</pre>\n"
      ],
      "text/plain": [
       "\u001b[1mExecution logs:\u001b[0m\n",
       "\n",
       " The following scriptures may be helpful:\n",
       "\n",
       "\n",
       "===== Scripture: Heedfulness | source: https://www.dhammatalks.org/suttas/SN/SN3_17.html =====\n",
       "Near Sāvatthī. As he was sitting to one side, King Pasenadi Kosala said to the Blessed One: “Is there, lord, any \n",
       "one quality that keeps both kinds of benefits secure—benefits in this life & benefits in lives to come?”\n",
       "“There is one quality, great king, that keeps both kinds of benefits secure— benefits in this life & benefits in \n",
       "lives to come.”\n",
       "“But what, lord, is that one quality… ?”\n",
       "\n",
       "===== Scripture: The Greater Exhortation to RÄhula | source: https://www.dhammatalks.org/suttas/MN/MN62.html =====\n",
       "“Develop the meditation of goodwill. For when you are developing the meditation of goodwill, ill-will will be \n",
       "abandoned.\n",
       "“Develop the meditation of compassion. For when you are developing the meditation of compassion, harmfulness will \n",
       "be abandoned.\n",
       "“Develop the meditation of empathetic joy. For when you are developing the meditation of empathetic joy, resentment\n",
       "will be abandoned.\n",
       "\n",
       "===== Scripture: The Greater Exhortation to RÄhula | source: https://www.dhammatalks.org/suttas/MN/MN62.html =====\n",
       "“Develop the meditation of equanimity. For when you are developing the meditation of equanimity, irritation will be\n",
       "abandoned.\n",
       "“Develop the meditation of the unattractive. For when you are developing the meditation of the unattractive, \n",
       "passion will be abandoned.\n",
       "“Develop the meditation of the perception of inconstancy. For when you are developing the meditation of the \n",
       "perception of inconstancy, the conceit ‘I am’ will be abandoned.\n",
       "\n",
       "===== Scripture: Heedfulness | source: https://www.dhammatalks.org/suttas/SN/SN3_17.html =====\n",
       "“But what, lord, is that one quality… ?”\n",
       "“Heedfulness, great king. Just as the footprints of all living beings with legs can be encompassed by the footprint\n",
       "of the elephant, and the elephant’s footprint is declared to be supreme among them in terms of its great size; in \n",
       "the same way, heedfulness is the one quality that keeps both kinds of benefits secure—benefits in this life & \n",
       "benefits in lives to come.”\n",
       "\n",
       "===== Scripture: Heedfulness | source: https://www.dhammatalks.org/suttas/SN/SN3_17.html =====\n",
       "That is what the Blessed One said. Having said that, the One Well-Gone, the Teacher, said further:\n",
       "“For one who desires\n",
       "long life, health,\n",
       "beauty, heaven, & noble birth,\n",
       "—lavish delights, one after another—\n",
       "the wise praise heedfulness\n",
       "in doing acts of merit.\n",
       "When heedful, wise,\n",
       "you achieve both kinds of benefit:\n",
       "benefits         in this life,\n",
       "& benefits         in lives to come.\n",
       "By breaking through to your benefit,\n",
       "you’re called enlightened,\n",
       "wise.\n",
       "\n",
       "===== Scripture: The Greater Exhortation to RÄhula | source: https://www.dhammatalks.org/suttas/MN/MN62.html =====\n",
       "Ven. Sāriputta saw Ven. Rāhula sitting at the foot of a tree, his legs folded crosswise, his body held erect, & \n",
       "with mindfulness set to the fore. On seeing him, he said to him, “Rāhula, develop the meditation [bhāvanā] of \n",
       "mindfulness of in-&-out breathing. The meditation of mindfulness of in-&-out breathing, when developed & pursued, \n",
       "is of great fruit, of great benefit.”\n",
       "\n",
       "===== Scripture: The Greater Exhortation to RÄhula | source: https://www.dhammatalks.org/suttas/MN/MN62.html =====\n",
       "“Develop the meditation in tune with water. For when you are developing the meditation in tune with water, \n",
       "agreeable & disagreeable sensory impressions that have arisen will not stay in charge of your mind\n",
       "\n",
       "===== Scripture: The Greater Exhortation to RÄhula | source: https://www.dhammatalks.org/suttas/MN/MN62.html =====\n",
       "“Develop the meditation in tune with fire. For when you are developing the meditation in tune with fire, agreeable \n",
       "& disagreeable sensory impressions that have arisen will not stay in charge of your mind\n",
       "\n",
       "===== Scripture: The Greater Exhortation to RÄhula | source: https://www.dhammatalks.org/suttas/MN/MN62.html =====\n",
       "“Develop the meditation in tune with wind. For when you are developing the meditation in tune with wind, agreeable \n",
       "& disagreeable sensory impressions that have arisen will not stay in charge of your mind\n",
       "\n",
       "===== Scripture: The Greater Exhortation to RÄhula | source: https://www.dhammatalks.org/suttas/MN/MN62.html =====\n",
       "“Rāhula, develop the meditation in tune with earth. For when you are developing the meditation in tune with earth, \n",
       "agreeable & disagreeable sensory impressions that have arisen will not stay in charge of your mind\n",
       "\n",
       "Out: None\n"
      ]
     },
     "metadata": {},
     "output_type": "display_data"
    },
    {
     "data": {
      "text/html": [
       "<pre style=\"white-space:pre;overflow-x:auto;line-height:normal;font-family:Menlo,'DejaVu Sans Mono',consolas,'Courier New',monospace\"><span style=\"color: #7f7f7f; text-decoration-color: #7f7f7f\">[Step 1: Duration 2.63 seconds| Input tokens: 2,079 | Output tokens: 77]</span>\n",
       "</pre>\n"
      ],
      "text/plain": [
       "\u001b[2m[Step 1: Duration 2.63 seconds| Input tokens: 2,079 | Output tokens: 77]\u001b[0m\n"
      ]
     },
     "metadata": {},
     "output_type": "display_data"
    },
    {
     "data": {
      "text/html": [
       "<pre style=\"white-space:pre;overflow-x:auto;line-height:normal;font-family:Menlo,'DejaVu Sans Mono',consolas,'Courier New',monospace\"><span style=\"color: #d4b702; text-decoration-color: #d4b702\">━━━━━━━━━━━━━━━━━━━━━━━━━━━━━━━━━━━━━━━━━━━━━━━━━━━━━ </span><span style=\"font-weight: bold\">Step </span><span style=\"color: #008080; text-decoration-color: #008080; font-weight: bold\">2</span><span style=\"color: #d4b702; text-decoration-color: #d4b702\"> ━━━━━━━━━━━━━━━━━━━━━━━━━━━━━━━━━━━━━━━━━━━━━━━━━━━━━━</span>\n",
       "</pre>\n"
      ],
      "text/plain": [
       "\u001b[38;2;212;183;2m━━━━━━━━━━━━━━━━━━━━━━━━━━━━━━━━━━━━━━━━━━━━━━━━━━━━━ \u001b[0m\u001b[1mStep \u001b[0m\u001b[1;36m2\u001b[0m\u001b[38;2;212;183;2m ━━━━━━━━━━━━━━━━━━━━━━━━━━━━━━━━━━━━━━━━━━━━━━━━━━━━━━\u001b[0m\n"
      ]
     },
     "metadata": {},
     "output_type": "display_data"
    },
    {
     "data": {
      "text/html": [
       "<pre style=\"white-space:pre;overflow-x:auto;line-height:normal;font-family:Menlo,'DejaVu Sans Mono',consolas,'Courier New',monospace\"> ─ <span style=\"font-weight: bold\">Executing parsed code:</span> ──────────────────────────────────────────────────────────────────────────────────────── \n",
       "  <span style=\"color: #f8f8f2; text-decoration-color: #f8f8f2; background-color: #272822\">advice_summary </span><span style=\"color: #ff4689; text-decoration-color: #ff4689; background-color: #272822\">=</span><span style=\"color: #f8f8f2; text-decoration-color: #f8f8f2; background-color: #272822\"> </span><span style=\"color: #e6db74; text-decoration-color: #e6db74; background-color: #272822\">\"\"\"</span><span style=\"background-color: #272822\">                                                                                           </span>  \n",
       "  <span style=\"color: #e6db74; text-decoration-color: #e6db74; background-color: #272822\">To boost your motivation for meditation, consider the following advice from the scriptures:</span><span style=\"background-color: #272822\">                    </span>  \n",
       "  <span style=\"background-color: #272822\">                                                                                                               </span>  \n",
       "  <span style=\"color: #e6db74; text-decoration-color: #e6db74; background-color: #272822\">1. **Mindfulness of Breathing**: Start with short sessions of meditation focusing on your breath. This can be </span><span style=\"background-color: #272822\"> </span>  \n",
       "  <span style=\"color: #e6db74; text-decoration-color: #e6db74; background-color: #272822\">done anywhere and helps in developing mindfulness.</span><span style=\"background-color: #272822\">                                                             </span>  \n",
       "  <span style=\"color: #e6db74; text-decoration-color: #e6db74; background-color: #272822\">2. **Reflect on Benefits**: Remember the benefits of meditation, such as long life, health, beauty, and peace. </span>  \n",
       "  <span style=\"color: #e6db74; text-decoration-color: #e6db74; background-color: #272822\">These can serve as intrinsic motivation.</span><span style=\"background-color: #272822\">                                                                       </span>  \n",
       "  <span style=\"color: #e6db74; text-decoration-color: #e6db74; background-color: #272822\">3. **Consistency**: Begin with short periods and gradually increase the duration.</span><span style=\"background-color: #272822\">                              </span>  \n",
       "  <span style=\"color: #e6db74; text-decoration-color: #e6db74; background-color: #272822\">4. **Routine**: Make meditation a part of your daily routine.</span><span style=\"background-color: #272822\">                                                  </span>  \n",
       "  <span style=\"color: #e6db74; text-decoration-color: #e6db74; background-color: #272822\">5. **Specific Practices**: Try meditations like mindfulness of the elements (water, fire, wind, and earth) to </span><span style=\"background-color: #272822\"> </span>  \n",
       "  <span style=\"color: #e6db74; text-decoration-color: #e6db74; background-color: #272822\">enhance focus and inner peace.</span><span style=\"background-color: #272822\">                                                                                 </span>  \n",
       "  <span style=\"color: #e6db74; text-decoration-color: #e6db74; background-color: #272822\">\"\"\"</span><span style=\"background-color: #272822\">                                                                                                            </span>  \n",
       "  <span style=\"background-color: #272822\">                                                                                                               </span>  \n",
       "  <span style=\"color: #f8f8f2; text-decoration-color: #f8f8f2; background-color: #272822\">print(advice_summary)</span><span style=\"background-color: #272822\">                                                                                          </span>  \n",
       " ───────────────────────────────────────────────────────────────────────────────────────────────────────────────── \n",
       "</pre>\n"
      ],
      "text/plain": [
       " ─ \u001b[1mExecuting parsed code:\u001b[0m ──────────────────────────────────────────────────────────────────────────────────────── \n",
       "  \u001b[38;2;248;248;242;48;2;39;40;34madvice_summary\u001b[0m\u001b[38;2;248;248;242;48;2;39;40;34m \u001b[0m\u001b[38;2;255;70;137;48;2;39;40;34m=\u001b[0m\u001b[38;2;248;248;242;48;2;39;40;34m \u001b[0m\u001b[38;2;230;219;116;48;2;39;40;34m\"\"\"\u001b[0m\u001b[48;2;39;40;34m                                                                                           \u001b[0m  \n",
       "  \u001b[38;2;230;219;116;48;2;39;40;34mTo boost your motivation for meditation, consider the following advice from the scriptures:\u001b[0m\u001b[48;2;39;40;34m                    \u001b[0m  \n",
       "  \u001b[48;2;39;40;34m                                                                                                               \u001b[0m  \n",
       "  \u001b[38;2;230;219;116;48;2;39;40;34m1. **Mindfulness of Breathing**: Start with short sessions of meditation focusing on your breath. This can be \u001b[0m\u001b[48;2;39;40;34m \u001b[0m  \n",
       "  \u001b[38;2;230;219;116;48;2;39;40;34mdone anywhere and helps in developing mindfulness.\u001b[0m\u001b[48;2;39;40;34m                                                             \u001b[0m  \n",
       "  \u001b[38;2;230;219;116;48;2;39;40;34m2. **Reflect on Benefits**: Remember the benefits of meditation, such as long life, health, beauty, and peace. \u001b[0m  \n",
       "  \u001b[38;2;230;219;116;48;2;39;40;34mThese can serve as intrinsic motivation.\u001b[0m\u001b[48;2;39;40;34m                                                                       \u001b[0m  \n",
       "  \u001b[38;2;230;219;116;48;2;39;40;34m3. **Consistency**: Begin with short periods and gradually increase the duration.\u001b[0m\u001b[48;2;39;40;34m                              \u001b[0m  \n",
       "  \u001b[38;2;230;219;116;48;2;39;40;34m4. **Routine**: Make meditation a part of your daily routine.\u001b[0m\u001b[48;2;39;40;34m                                                  \u001b[0m  \n",
       "  \u001b[38;2;230;219;116;48;2;39;40;34m5. **Specific Practices**: Try meditations like mindfulness of the elements (water, fire, wind, and earth) to \u001b[0m\u001b[48;2;39;40;34m \u001b[0m  \n",
       "  \u001b[38;2;230;219;116;48;2;39;40;34menhance focus and inner peace.\u001b[0m\u001b[48;2;39;40;34m                                                                                 \u001b[0m  \n",
       "  \u001b[38;2;230;219;116;48;2;39;40;34m\"\"\"\u001b[0m\u001b[48;2;39;40;34m                                                                                                            \u001b[0m  \n",
       "  \u001b[48;2;39;40;34m                                                                                                               \u001b[0m  \n",
       "  \u001b[38;2;248;248;242;48;2;39;40;34mprint\u001b[0m\u001b[38;2;248;248;242;48;2;39;40;34m(\u001b[0m\u001b[38;2;248;248;242;48;2;39;40;34madvice_summary\u001b[0m\u001b[38;2;248;248;242;48;2;39;40;34m)\u001b[0m\u001b[48;2;39;40;34m                                                                                          \u001b[0m  \n",
       " ───────────────────────────────────────────────────────────────────────────────────────────────────────────────── \n"
      ]
     },
     "metadata": {},
     "output_type": "display_data"
    },
    {
     "data": {
      "text/html": [
       "<pre style=\"white-space:pre;overflow-x:auto;line-height:normal;font-family:Menlo,'DejaVu Sans Mono',consolas,'Courier New',monospace\"><span style=\"font-weight: bold\">Execution logs:</span>\n",
       "\n",
       "To boost your motivation for meditation, consider the following advice from the scriptures:\n",
       "\n",
       "1. **Mindfulness of Breathing**: Start with short sessions of meditation focusing on your breath. This can be done \n",
       "anywhere and helps in developing mindfulness.\n",
       "2. **Reflect on Benefits**: Remember the benefits of meditation, such as long life, health, beauty, and peace. \n",
       "These can serve as intrinsic motivation.\n",
       "3. **Consistency**: Begin with short periods and gradually increase the duration.\n",
       "4. **Routine**: Make meditation a part of your daily routine.\n",
       "5. **Specific Practices**: Try meditations like mindfulness of the elements (water, fire, wind, and earth) to \n",
       "enhance focus and inner peace.\n",
       "\n",
       "\n",
       "Out: None\n",
       "</pre>\n"
      ],
      "text/plain": [
       "\u001b[1mExecution logs:\u001b[0m\n",
       "\n",
       "To boost your motivation for meditation, consider the following advice from the scriptures:\n",
       "\n",
       "1. **Mindfulness of Breathing**: Start with short sessions of meditation focusing on your breath. This can be done \n",
       "anywhere and helps in developing mindfulness.\n",
       "2. **Reflect on Benefits**: Remember the benefits of meditation, such as long life, health, beauty, and peace. \n",
       "These can serve as intrinsic motivation.\n",
       "3. **Consistency**: Begin with short periods and gradually increase the duration.\n",
       "4. **Routine**: Make meditation a part of your daily routine.\n",
       "5. **Specific Practices**: Try meditations like mindfulness of the elements (water, fire, wind, and earth) to \n",
       "enhance focus and inner peace.\n",
       "\n",
       "\n",
       "Out: None\n"
      ]
     },
     "metadata": {},
     "output_type": "display_data"
    },
    {
     "data": {
      "text/html": [
       "<pre style=\"white-space:pre;overflow-x:auto;line-height:normal;font-family:Menlo,'DejaVu Sans Mono',consolas,'Courier New',monospace\"><span style=\"color: #7f7f7f; text-decoration-color: #7f7f7f\">[Step 2: Duration 10.93 seconds| Input tokens: 5,420 | Output tokens: 456]</span>\n",
       "</pre>\n"
      ],
      "text/plain": [
       "\u001b[2m[Step 2: Duration 10.93 seconds| Input tokens: 5,420 | Output tokens: 456]\u001b[0m\n"
      ]
     },
     "metadata": {},
     "output_type": "display_data"
    },
    {
     "data": {
      "text/html": [
       "<pre style=\"white-space:pre;overflow-x:auto;line-height:normal;font-family:Menlo,'DejaVu Sans Mono',consolas,'Courier New',monospace\"><span style=\"color: #d4b702; text-decoration-color: #d4b702\">━━━━━━━━━━━━━━━━━━━━━━━━━━━━━━━━━━━━━━━━━━━━━━━━━━━━━ </span><span style=\"font-weight: bold\">Step </span><span style=\"color: #008080; text-decoration-color: #008080; font-weight: bold\">3</span><span style=\"color: #d4b702; text-decoration-color: #d4b702\"> ━━━━━━━━━━━━━━━━━━━━━━━━━━━━━━━━━━━━━━━━━━━━━━━━━━━━━━</span>\n",
       "</pre>\n"
      ],
      "text/plain": [
       "\u001b[38;2;212;183;2m━━━━━━━━━━━━━━━━━━━━━━━━━━━━━━━━━━━━━━━━━━━━━━━━━━━━━ \u001b[0m\u001b[1mStep \u001b[0m\u001b[1;36m3\u001b[0m\u001b[38;2;212;183;2m ━━━━━━━━━━━━━━━━━━━━━━━━━━━━━━━━━━━━━━━━━━━━━━━━━━━━━━\u001b[0m\n"
      ]
     },
     "metadata": {},
     "output_type": "display_data"
    },
    {
     "data": {
      "text/html": [
       "<pre style=\"white-space:pre;overflow-x:auto;line-height:normal;font-family:Menlo,'DejaVu Sans Mono',consolas,'Courier New',monospace\"> ─ <span style=\"font-weight: bold\">Executing parsed code:</span> ──────────────────────────────────────────────────────────────────────────────────────── \n",
       "  <span style=\"color: #f8f8f2; text-decoration-color: #f8f8f2; background-color: #272822\">final_answer(advice_summary)</span><span style=\"background-color: #272822\">                                                                                   </span>  \n",
       " ───────────────────────────────────────────────────────────────────────────────────────────────────────────────── \n",
       "</pre>\n"
      ],
      "text/plain": [
       " ─ \u001b[1mExecuting parsed code:\u001b[0m ──────────────────────────────────────────────────────────────────────────────────────── \n",
       "  \u001b[38;2;248;248;242;48;2;39;40;34mfinal_answer\u001b[0m\u001b[38;2;248;248;242;48;2;39;40;34m(\u001b[0m\u001b[38;2;248;248;242;48;2;39;40;34madvice_summary\u001b[0m\u001b[38;2;248;248;242;48;2;39;40;34m)\u001b[0m\u001b[48;2;39;40;34m                                                                                   \u001b[0m  \n",
       " ───────────────────────────────────────────────────────────────────────────────────────────────────────────────── \n"
      ]
     },
     "metadata": {},
     "output_type": "display_data"
    },
    {
     "data": {
      "text/html": [
       "<pre style=\"white-space:pre;overflow-x:auto;line-height:normal;font-family:Menlo,'DejaVu Sans Mono',consolas,'Courier New',monospace\"><span style=\"color: #d4b702; text-decoration-color: #d4b702; font-weight: bold\">Out - Final answer: </span>\n",
       "<span style=\"color: #d4b702; text-decoration-color: #d4b702; font-weight: bold\">To boost your motivation for meditation, consider the following advice from the scriptures:</span>\n",
       "\n",
       "<span style=\"color: #d4b702; text-decoration-color: #d4b702; font-weight: bold\">1. **Mindfulness of Breathing**: Start with short sessions of meditation focusing on your breath. This can be done </span>\n",
       "<span style=\"color: #d4b702; text-decoration-color: #d4b702; font-weight: bold\">anywhere and helps in developing mindfulness.</span>\n",
       "<span style=\"color: #d4b702; text-decoration-color: #d4b702; font-weight: bold\">2. **Reflect on Benefits**: Remember the benefits of meditation, such as long life, health, beauty, and peace. </span>\n",
       "<span style=\"color: #d4b702; text-decoration-color: #d4b702; font-weight: bold\">These can serve as intrinsic motivation.</span>\n",
       "<span style=\"color: #d4b702; text-decoration-color: #d4b702; font-weight: bold\">3. **Consistency**: Begin with short periods and gradually increase the duration.</span>\n",
       "<span style=\"color: #d4b702; text-decoration-color: #d4b702; font-weight: bold\">4. **Routine**: Make meditation a part of your daily routine.</span>\n",
       "<span style=\"color: #d4b702; text-decoration-color: #d4b702; font-weight: bold\">5. **Specific Practices**: Try meditations like mindfulness of the elements (water, fire, wind, and earth) to </span>\n",
       "<span style=\"color: #d4b702; text-decoration-color: #d4b702; font-weight: bold\">enhance focus and inner peace.</span>\n",
       "\n",
       "</pre>\n"
      ],
      "text/plain": [
       "\u001b[1;38;2;212;183;2mOut - Final answer: \u001b[0m\n",
       "\u001b[1;38;2;212;183;2mTo boost your motivation for meditation, consider the following advice from the scriptures:\u001b[0m\n",
       "\n",
       "\u001b[1;38;2;212;183;2m1. **Mindfulness of Breathing**: Start with short sessions of meditation focusing on your breath. This can be done \u001b[0m\n",
       "\u001b[1;38;2;212;183;2manywhere and helps in developing mindfulness.\u001b[0m\n",
       "\u001b[1;38;2;212;183;2m2. **Reflect on Benefits**: Remember the benefits of meditation, such as long life, health, beauty, and peace. \u001b[0m\n",
       "\u001b[1;38;2;212;183;2mThese can serve as intrinsic motivation.\u001b[0m\n",
       "\u001b[1;38;2;212;183;2m3. **Consistency**: Begin with short periods and gradually increase the duration.\u001b[0m\n",
       "\u001b[1;38;2;212;183;2m4. **Routine**: Make meditation a part of your daily routine.\u001b[0m\n",
       "\u001b[1;38;2;212;183;2m5. **Specific Practices**: Try meditations like mindfulness of the elements (water, fire, wind, and earth) to \u001b[0m\n",
       "\u001b[1;38;2;212;183;2menhance focus and inner peace.\u001b[0m\n",
       "\n"
      ]
     },
     "metadata": {},
     "output_type": "display_data"
    },
    {
     "data": {
      "text/html": [
       "<pre style=\"white-space:pre;overflow-x:auto;line-height:normal;font-family:Menlo,'DejaVu Sans Mono',consolas,'Courier New',monospace\"><span style=\"color: #7f7f7f; text-decoration-color: #7f7f7f\">[Step 3: Duration 1.85 seconds| Input tokens: 9,506 | Output tokens: 513]</span>\n",
       "</pre>\n"
      ],
      "text/plain": [
       "\u001b[2m[Step 3: Duration 1.85 seconds| Input tokens: 9,506 | Output tokens: 513]\u001b[0m\n"
      ]
     },
     "metadata": {},
     "output_type": "display_data"
    }
   ],
   "source": [
    "# # Initialize the agent\n",
    "model = HfApiModel(\n",
    "    # model_id='Qwen/Qwen2.5-Coder-32B-Instruct', # it is possible that this model may be overloaded\n",
    "    model_id=\"https://pflgm2locj2t89co.us-east-1.aws.endpoints.huggingface.cloud\",\n",
    "    token=os.getenv(\"HF_TOKEN\"),\n",
    ")\n",
    "system_prompt=\"\"\"You are a helpful librarian specializing in Buddhist texts and teachings.\n",
    "When a user asks a question, use the scripture_search_tool tool to find relevant passages from the suttas.\n",
    "You may need to refine the search query to get better results. Finally, provide the passages\n",
    "as are, without any additional commentary or interpretation. Use the same format as the search tool\n",
    "for your output.\n",
    "\"\"\"\n",
    "agent = CodeAgent(tools=[scripture_search_tool], model=model)\n",
    "# Add the system prompt to the input messages\n",
    "agent.input_messages = [\n",
    "    {\n",
    "        \"role\": \"system\",\n",
    "        \"content\": system_prompt,\n",
    "    }\n",
    "]\n",
    "\n",
    "# # Example usage\n",
    "response = agent.run(\n",
    "    \"I struggle with motivation to meditate. What can I do?\"\n",
    ")\n"
   ]
  },
  {
   "cell_type": "code",
   "execution_count": 9,
   "metadata": {},
   "outputs": [
    {
     "name": "stdout",
     "output_type": "stream",
     "text": [
      "\n",
      "To boost your motivation for meditation, consider the following advice from the scriptures:\n",
      "\n",
      "1. **Mindfulness of Breathing**: Start with short sessions of meditation focusing on your breath. This can be done anywhere and helps in developing mindfulness.\n",
      "2. **Reflect on Benefits**: Remember the benefits of meditation, such as long life, health, beauty, and peace. These can serve as intrinsic motivation.\n",
      "3. **Consistency**: Begin with short periods and gradually increase the duration.\n",
      "4. **Routine**: Make meditation a part of your daily routine.\n",
      "5. **Specific Practices**: Try meditations like mindfulness of the elements (water, fire, wind, and earth) to enhance focus and inner peace.\n",
      "\n"
     ]
    }
   ],
   "source": [
    "print(response)"
   ]
  },
  {
   "cell_type": "code",
   "execution_count": null,
   "metadata": {},
   "outputs": [],
   "source": []
  }
 ],
 "metadata": {
  "kernelspec": {
   "display_name": ".venv",
   "language": "python",
   "name": "python3"
  },
  "language_info": {
   "codemirror_mode": {
    "name": "ipython",
    "version": 3
   },
   "file_extension": ".py",
   "mimetype": "text/x-python",
   "name": "python",
   "nbconvert_exporter": "python",
   "pygments_lexer": "ipython3",
   "version": "3.12.9"
  }
 },
 "nbformat": 4,
 "nbformat_minor": 2
}
